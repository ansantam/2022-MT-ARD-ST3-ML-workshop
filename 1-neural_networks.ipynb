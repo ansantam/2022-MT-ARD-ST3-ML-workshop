{
 "cells": [
  {
   "cell_type": "code",
   "execution_count": 2,
   "id": "2ac47cb3",
   "metadata": {},
   "outputs": [],
   "source": [
    "%matplotlib inline\n",
    "from preamble import *"
   ]
  },
  {
   "cell_type": "code",
   "execution_count": 3,
   "id": "448b459d",
   "metadata": {},
   "outputs": [],
   "source": [
    "import torch\n",
    "import torch.nn as nn"
   ]
  },
  {
   "cell_type": "markdown",
   "id": "69778674",
   "metadata": {},
   "source": [
    "# Conventions for this notebook\n",
    "\n",
    "## Jargon\n",
    "- Unit = activation = neuron\n",
    "- Model = neural network\n",
    "- Feature = dimension of input vector\n",
    "- Hypothesis = output of the model\n",
    "\n",
    "\n",
    "## Indices\n",
    "- $j$ = layer label\n",
    "- $i$ = unit label in a particular layer\n",
    "- $m$ = number of features (length of input vector)\n",
    "\n",
    "## Scalars\n",
    "- $L$ = total number of layers\n",
    "- $u^j$ = number of units in layer $j$\n",
    "- $a_i^j$ is the activation unit $i$ in layer $j$\n",
    "\n",
    "## Vectors and matrices\n",
    "- $x$: input vector of dimension $(m \\times 1)$\n",
    "- $a^j$: activation vector of layer $j$ of dimension $(u^j \\times 1)$\n",
    "- $\\theta^j$: weight matrix from layer $j$ to $j+1$, of dimension $[u^{j+1} \\times (u^j + 1)]$, \n",
    "<span style='color:Blue'> where the $+1$ accounts for the bias unit </span>\n",
    "\n",
    "\n",
    "\n",
    "$$\n",
    "x =\n",
    "\\begin{bmatrix}\n",
    "x_0 \\\\\n",
    "x_1 \\\\\n",
    "\\vdots \\\\\n",
    "x_m\n",
    "\\end{bmatrix} \\ \\ ; \\ \\\n",
    "\\theta^j =\n",
    "\\begin{bmatrix}\n",
    "\\theta_{10} & \\dots & \\theta_{1(u^j + 1)}\\\\\n",
    "\\theta_{20} & \\ddots\\\\\n",
    "\\vdots \\\\\n",
    "\\theta_{(u^{j+1}) 0} & & \\theta_{(u^{j+1})(u^j + 1)}\\\\\n",
    "\\end{bmatrix} \n",
    "$$\n",
    "\n"
   ]
  },
  {
   "cell_type": "markdown",
   "id": "fa2320f4",
   "metadata": {},
   "source": [
    "# 0. Introduction\n",
    "In this notebook we will train a neural network to fit an arbitrary function.\n",
    "\n",
    "## 0.1. Universal Approximation Theorem\n",
    "- When the activation function is non-linear, then a two-layer neural network can be proven to be a **universal function approximator**.\n",
    "- <span style='color:red'> This is where the power of neural networks comes from! </span>\n",
    "\n",
    "## 0.2. Create a function to fit\n",
    "Let's create a simple non-linear function to fit with our neural network:"
   ]
  },
  {
   "cell_type": "code",
   "execution_count": 4,
   "id": "e58cebe3",
   "metadata": {},
   "outputs": [
    {
     "data": {
      "text/plain": [
       "Text(0.5, 1.0, 'Function to be fitted')"
      ]
     },
     "execution_count": 4,
     "metadata": {},
     "output_type": "execute_result"
    },
    {
     "data": {
      "image/png": "[encoded data removed]",
      "text/plain": [
       "<Figure size 720x504 with 1 Axes>"
      ]
     },
     "metadata": {
      "needs_background": "light"
     },
     "output_type": "display_data"
    }
   ],
   "source": [
    "sample_points = 3e3\n",
    "x_lim = 100\n",
    "x = np.linspace(0, x_lim, int(sample_points))\n",
    "y = np.sin(x * x_lim * 1e-4) * np.cos(x * x_lim * 1e-3) * 3\n",
    "plt.plot(x, y)\n",
    "plt.title('Function to be fitted')"
   ]
  },
  {
   "cell_type": "markdown",
   "id": "a73959ae",
   "metadata": {},
   "source": [
    "## 0.3. Data shape\n",
    "- Our data is 1D, meaning it has only one feature.\n",
    "- We want a model that for a given $x$ it returns the correspondent $y$ value.\n",
    "- This means that a model with one neuron input and a one neuron output suffices:"
   ]
  },
  {
   "cell_type": "code",
   "execution_count": 5,
   "id": "13d603ef",
   "metadata": {},
   "outputs": [],
   "source": [
    "n_input = 1\n",
    "n_out = 1"
   ]
  },
  {
   "cell_type": "markdown",
   "id": "5ba45463",
   "metadata": {},
   "source": [
    "In order for the model to take each point of the data one by one we need to do some additional re-shaping, where we introduce an additional dimension for each entry:"
   ]
  },
  {
   "cell_type": "code",
   "execution_count": 6,
   "id": "5726813c",
   "metadata": {},
   "outputs": [],
   "source": [
    "x_reshape = x.reshape((int(len(x) / n_input), n_input))\n",
    "y_reshape = y.reshape((int(len(y) / n_out), n_out))"
   ]
  },
  {
   "cell_type": "code",
   "execution_count": 7,
   "id": "e448eb81",
   "metadata": {},
   "outputs": [],
   "source": [
    "# print(x.shape, y.shape)\n",
    "# print(x_reshape.shape, y_reshape.shape)\n",
    "# print(x[10], x_reshape[10])"
   ]
  },
  {
   "cell_type": "markdown",
   "id": "4335bb62",
   "metadata": {},
   "source": [
    "## 0.4. Data type\n",
    "The data that we will input to the model needs to be of the type `torch.float32`\n",
    "Before starting, let's convert our data numpy arrays to torch tensors:"
   ]
  },
  {
   "cell_type": "code",
   "execution_count": 8,
   "id": "b413e6fd",
   "metadata": {},
   "outputs": [],
   "source": [
    "x_torch = torch.from_numpy(x_reshape)\n",
    "y_torch = torch.from_numpy(y_reshape)"
   ]
  },
  {
   "cell_type": "code",
   "execution_count": 9,
   "id": "57ce4393",
   "metadata": {},
   "outputs": [
    {
     "name": "stdout",
     "output_type": "stream",
     "text": [
      "float64 float64\n",
      "torch.float64 torch.float64\n"
     ]
    }
   ],
   "source": [
    "# Type checking:\n",
    "print(x.dtype, y.dtype)\n",
    "print(x_torch.dtype, y_torch.dtype)"
   ]
  },
  {
   "cell_type": "markdown",
   "id": "794384e7",
   "metadata": {},
   "source": [
    "The type is still not correct, but we can easily convert it:"
   ]
  },
  {
   "cell_type": "code",
   "execution_count": 10,
   "id": "acce223d",
   "metadata": {},
   "outputs": [],
   "source": [
    "x_torch = x_torch.to(dtype=torch.float32)\n",
    "y_torch = y_torch.to(dtype=torch.float32)"
   ]
  },
  {
   "cell_type": "code",
   "execution_count": 11,
   "id": "6597c669",
   "metadata": {},
   "outputs": [
    {
     "name": "stdout",
     "output_type": "stream",
     "text": [
      "float64 float64\n",
      "torch.float32 torch.float32\n"
     ]
    }
   ],
   "source": [
    "# Type checking:\n",
    "print(x.dtype, y.dtype)\n",
    "print(x_torch.dtype, y_torch.dtype)"
   ]
  },
  {
   "cell_type": "markdown",
   "id": "7b139da4",
   "metadata": {},
   "source": [
    "## 0.4. Data normalization\n",
    "We will also need to normalize the data to make sure we are in the non-linear region of the activation functions:"
   ]
  },
  {
   "cell_type": "code",
   "execution_count": 12,
   "id": "6cb2f611",
   "metadata": {},
   "outputs": [],
   "source": [
    "x_norm = torch.nn.functional.normalize(x_torch, p=5, dim=0)\n",
    "y_norm = torch.nn.functional.normalize(y_torch, p=5, dim=0)"
   ]
  },
  {
   "cell_type": "markdown",
   "id": "29c1044a",
   "metadata": {},
   "source": [
    "The [`torch.nn.functional.normalize`](https://pytorch.org/docs/stable/generated/torch.nn.functional.normalize.html) function performs $L_p$ normalization, where the $L_p$ norm is:\n",
    "\n",
    "$$\n",
    "||x||_p = (\\sum_{i=1}^n |x_i|^p)^{1/p} \\ \\ \\ p>0\n",
    "$$"
   ]
  },
  {
   "cell_type": "code",
   "execution_count": 13,
   "id": "03c39d09",
   "metadata": {},
   "outputs": [
    {
     "data": {
      "text/plain": [
       "Text(0.5, 1.0, 'Normalized function')"
      ]
     },
     "execution_count": 13,
     "metadata": {},
     "output_type": "execute_result"
    },
    {
     "data": {
      "image/png": "[encoded data removed]",
      "text/plain": [
       "<Figure size 720x504 with 1 Axes>"
      ]
     },
     "metadata": {
      "needs_background": "light"
     },
     "output_type": "display_data"
    }
   ],
   "source": [
    "plt.plot(x_norm.detach().numpy(), y_norm.detach().numpy())\n",
    "plt.title('Normalized function')"
   ]
  },
  {
   "cell_type": "markdown",
   "id": "f4f44199",
   "metadata": {},
   "source": [
    "# 2. Build your model"
   ]
  },
  {
   "cell_type": "markdown",
   "id": "3eedf40a",
   "metadata": {},
   "source": [
    "- In PyTorch [`Sequential`](https://pytorch.org/docs/stable/generated/torch.nn.Sequential.html#torch.nn.Sequential) stands for *sequential container*, where modules can be added sequentially and are connected in a cascading way. The output for each module is forwarded sequentially to the next.\n",
    "- Now we will build a simple model with one hidden layer with `Sequential`\n",
    "- Remember that every layer in a neural network is followed by an **activation layer** that performs some additional operations on the neurons.\n",
    "\n",
    "## 2.1 Activation functions\n",
    "\n",
    "## 2.2. Model architecture"
   ]
  },
  {
   "cell_type": "code",
   "execution_count": 14,
   "id": "56a81cf8",
   "metadata": {},
   "outputs": [
    {
     "name": "stdout",
     "output_type": "stream",
     "text": [
      "Sequential(\n",
      "  (0): Linear(in_features=1, out_features=5, bias=True)\n",
      "  (1): Tanh()\n",
      "  (2): Linear(in_features=5, out_features=1, bias=True)\n",
      "  (3): Tanh()\n",
      ")\n"
     ]
    }
   ],
   "source": [
    "n_hidden_01 = 5\n",
    "\n",
    "model0 = nn.Sequential(nn.Linear(n_input, n_hidden_01),\n",
    "                      nn.Tanh(),\n",
    "                      nn.Linear(n_hidden_01, n_out),\n",
    "                      nn.Tanh()\n",
    "                      )\n",
    "print(model0)"
   ]
  },
  {
   "cell_type": "code",
   "execution_count": 15,
   "id": "ffe7db45",
   "metadata": {},
   "outputs": [
    {
     "name": "stdout",
     "output_type": "stream",
     "text": [
      "Sequential(\n",
      "  (0): Linear(in_features=1, out_features=10, bias=True)\n",
      "  (1): Tanh()\n",
      "  (2): Linear(in_features=10, out_features=1, bias=True)\n",
      "  (3): Tanh()\n",
      ")\n"
     ]
    }
   ],
   "source": [
    "n_hidden_11 = 10\n",
    "\n",
    "model1 = nn.Sequential(nn.Linear(n_input, n_hidden_11),\n",
    "                      nn.Tanh(),\n",
    "                      nn.Linear(n_hidden_11, n_out),\n",
    "                      nn.Tanh()\n",
    "                      )\n",
    "print(model1)"
   ]
  },
  {
   "cell_type": "code",
   "execution_count": 16,
   "id": "8f7cb08d",
   "metadata": {},
   "outputs": [
    {
     "name": "stdout",
     "output_type": "stream",
     "text": [
      "Sequential(\n",
      "  (0): Linear(in_features=1, out_features=5, bias=True)\n",
      "  (1): Tanh()\n",
      "  (2): Linear(in_features=5, out_features=5, bias=True)\n",
      "  (3): Tanh()\n",
      "  (4): Linear(in_features=5, out_features=1, bias=True)\n",
      "  (5): Tanh()\n",
      ")\n"
     ]
    }
   ],
   "source": [
    "n_hidden_21 = 5\n",
    "n_hidden_22 = 5\n",
    "model2 = nn.Sequential(nn.Linear(n_input, n_hidden_21),\n",
    "                      nn.Tanh(),\n",
    "                      nn.Linear(n_hidden_21, n_hidden_22),\n",
    "                      nn.Tanh(),\n",
    "                      nn.Linear(n_hidden_22, n_out),\n",
    "                      nn.Tanh()\n",
    "                      )\n",
    "print(model2)"
   ]
  },
  {
   "cell_type": "markdown",
   "id": "bd82d8db",
   "metadata": {},
   "source": [
    "<span style='font-family:\"Helvetica\"; background:yellow; font-size:1.4em' >\n",
    " How much do you think each hyperparameter will affect the quality of the model? \n",
    "</span>"
   ]
  },
  {
   "cell_type": "markdown",
   "id": "4c905a1b",
   "metadata": {},
   "source": [
    "You can uncomment and execute the next line to explore the methods of the `model` object you created"
   ]
  },
  {
   "cell_type": "code",
   "execution_count": 17,
   "id": "2d4584d5",
   "metadata": {},
   "outputs": [],
   "source": [
    "# dir(model)"
   ]
  },
  {
   "cell_type": "markdown",
   "id": "f6d3419d",
   "metadata": {},
   "source": [
    "## 2.1 - Understanding the PyTorch model\n",
    "Try the `parameters` method (needs to be instantiated)."
   ]
  },
  {
   "cell_type": "code",
   "execution_count": 18,
   "id": "a0d0892c",
   "metadata": {},
   "outputs": [
    {
     "data": {
      "text/plain": [
       "<generator object Module.parameters at 0x7f7278038f90>"
      ]
     },
     "execution_count": 18,
     "metadata": {},
     "output_type": "execute_result"
    }
   ],
   "source": [
    "model0.parameters()"
   ]
  },
  {
   "cell_type": "markdown",
   "id": "c834e0b8",
   "metadata": {},
   "source": [
    "The `parameters` method gives back a *generator*, which means it needs to be iterated over to give back an output:"
   ]
  },
  {
   "cell_type": "code",
   "execution_count": 19,
   "id": "08caf645",
   "metadata": {},
   "outputs": [
    {
     "name": "stdout",
     "output_type": "stream",
     "text": [
      "torch.Size([5, 1])\n",
      "torch.Size([5])\n",
      "torch.Size([1, 5])\n",
      "torch.Size([1])\n"
     ]
    }
   ],
   "source": [
    "for element in model0.parameters():\n",
    "    print(element.shape)"
   ]
  },
  {
   "cell_type": "markdown",
   "id": "e44a30e9",
   "metadata": {},
   "source": [
    "<span style='font-family:\"Helvetica\"; background:yellow; font-size:1.4em' >\n",
    "     Without taking into account any bias unit: can you identify the elements of the model by their dimensions?\n",
    "</span>"
   ]
  },
  {
   "cell_type": "markdown",
   "id": "a750495a",
   "metadata": {},
   "source": [
    "- The first element corresponds to the weight matrix $\\theta^1$ from layer 1 to layer 2, of dimensions $u^{j+1} \\times u^j = u^2 \\times u^1$\n",
    "- The second element corresponds to the values of the activation units in layer 2\n",
    "- The third element corresponds to the weight matrix $\\theta^2$ from layer 2 to layer 3, of dimensions $u^{j+1} \\times u^j = u^3 \\times u^3 $\n",
    "- The fourth element is the output of the model"
   ]
  },
  {
   "cell_type": "markdown",
   "id": "35a13a21",
   "metadata": {},
   "source": [
    "Let's have a look at what the contents of those tensors:"
   ]
  },
  {
   "cell_type": "code",
   "execution_count": 20,
   "id": "383b806d",
   "metadata": {},
   "outputs": [
    {
     "name": "stdout",
     "output_type": "stream",
     "text": [
      "Parameter containing:\n",
      "tensor([[-0.1436],\n",
      "        [-0.1666],\n",
      "        [-0.5843],\n",
      "        [-0.5521],\n",
      "        [-0.6915]], requires_grad=True)\n",
      "Parameter containing:\n",
      "tensor([ 0.4583,  0.5950, -0.1915, -0.2741, -0.4814], requires_grad=True)\n",
      "Parameter containing:\n",
      "tensor([[-0.3677,  0.0506,  0.2883, -0.2980,  0.0132]], requires_grad=True)\n",
      "Parameter containing:\n",
      "tensor([0.1890], requires_grad=True)\n"
     ]
    }
   ],
   "source": [
    "for element in model0.parameters():\n",
    "    print(element)"
   ]
  },
  {
   "cell_type": "markdown",
   "id": "e6da98e7",
   "metadata": {},
   "source": [
    "<span style='font-family:\"Helvetica\"; background:yellow; font-size:1.4em' >\n",
    "     What are these values?\n",
    "</span>"
   ]
  },
  {
   "cell_type": "markdown",
   "id": "bd9f7ac0",
   "metadata": {},
   "source": [
    "They have been randomly initialized"
   ]
  },
  {
   "cell_type": "markdown",
   "id": "f11f48b6",
   "metadata": {},
   "source": [
    "# 3 - Define the loss function\n",
    "- Reminder: the **loss function** measures how distant the predictions made by the model are from the actual values\n",
    "- `torch.nn` provides many different types of [loss functions](https://pytorch.org/docs/stable/nn.html#loss-functions). One of the most popular ones in the [Mean Squared Error (MSE)](https://pytorch.org/docs/stable/generated/torch.nn.MSELoss.html#torch.nn.MSELoss) since it can be applied to a wide variety of cases.\n",
    "- In general cost functions are chosen depending on desirable properties, such as convexity."
   ]
  },
  {
   "cell_type": "code",
   "execution_count": 21,
   "id": "2ebd648b",
   "metadata": {},
   "outputs": [],
   "source": [
    "loss_function = nn.MSELoss()"
   ]
  },
  {
   "cell_type": "markdown",
   "id": "b443be59",
   "metadata": {},
   "source": [
    "# 4 - Define the optimizer\n",
    "[`torch.optim`](https://pytorch.org/docs/stable/optim.html) provides implementations of various optimization algorithms. The optimizer object will hold the current state and will update the parameters of the model based on computer gradients. It takes as an input an iterable containing the model parameters, that we explored before."
   ]
  },
  {
   "cell_type": "code",
   "execution_count": 22,
   "id": "9d116553",
   "metadata": {},
   "outputs": [],
   "source": [
    "batch_size = 100 \n",
    "learning_rate = 0.015"
   ]
  },
  {
   "cell_type": "code",
   "execution_count": 23,
   "id": "8921c861",
   "metadata": {},
   "outputs": [],
   "source": [
    "optimizer0 = torch.optim.Adam(model0.parameters(), lr=learning_rate)\n",
    "optimizer1 = torch.optim.Adam(model1.parameters(), lr=learning_rate)\n",
    "optimizer2 = torch.optim.Adam(model2.parameters(), lr=learning_rate)"
   ]
  },
  {
   "cell_type": "code",
   "execution_count": 24,
   "id": "b89395a5",
   "metadata": {},
   "outputs": [],
   "source": [
    "# optimizer = torch.optim.SGD(model.parameters(), lr=learning_rate)"
   ]
  },
  {
   "cell_type": "markdown",
   "id": "5fbca570",
   "metadata": {},
   "source": [
    "# 5 - Train the model on a loop\n",
    "The model learns iteratively in a loop of a given number of epochs. Each loop consists of:\n",
    "- A **forward propagation**: compute $y$ given the input $x$ and current weights and calculate the loss\n",
    "- A **backward propagation**: compute the gradient of the loss function (error of the loss at each unit)\n",
    "- Gradient descent: update model weights"
   ]
  },
  {
   "cell_type": "code",
   "execution_count": 25,
   "id": "94274de5",
   "metadata": {},
   "outputs": [],
   "source": [
    "epochs = 1000"
   ]
  },
  {
   "cell_type": "code",
   "execution_count": 26,
   "id": "77062514",
   "metadata": {},
   "outputs": [],
   "source": [
    "losses0 = []\n",
    "for epoch in range(epochs):\n",
    "    pred_y0 = model0(x_norm)\n",
    "    optimizer0.zero_grad()\n",
    "    loss0 = loss_function(pred_y0, y_norm)\n",
    "    losses0.append(loss0.item())\n",
    "    loss0.backward()\n",
    "    optimizer0.step()"
   ]
  },
  {
   "cell_type": "code",
   "execution_count": 27,
   "id": "628a5f23",
   "metadata": {},
   "outputs": [],
   "source": [
    "losses1 = []\n",
    "for epoch in range(epochs):\n",
    "    pred_y1 = model1(x_norm)\n",
    "    optimizer1.zero_grad()\n",
    "    loss1 = loss_function(pred_y1, y_norm)\n",
    "    losses1.append(loss1.item())\n",
    "    loss1.backward()\n",
    "    optimizer1.step()"
   ]
  },
  {
   "cell_type": "code",
   "execution_count": 28,
   "id": "f360c837",
   "metadata": {},
   "outputs": [],
   "source": [
    "losses2 = []\n",
    "for epoch in range(epochs):\n",
    "    pred_y2 = model2(x_norm)\n",
    "    optimizer2.zero_grad()\n",
    "    loss2 = loss_function(pred_y2, y_norm)\n",
    "    losses2.append(loss2.item())\n",
    "    loss2.backward()\n",
    "    optimizer2.step()"
   ]
  },
  {
   "cell_type": "code",
   "execution_count": 29,
   "id": "bd335e65",
   "metadata": {},
   "outputs": [
    {
     "data": {
      "image/png": "[encoded data removed]",
      "text/plain": [
       "<Figure size 720x504 with 1 Axes>"
      ]
     },
     "metadata": {
      "needs_background": "light"
     },
     "output_type": "display_data"
    }
   ],
   "source": [
    "plt.plot(losses0, label='Model 0')\n",
    "plt.plot(losses1, label='Model 1')\n",
    "plt.plot(losses2, label='Model 2')\n",
    "plt.ylabel('Loss')\n",
    "plt.xlabel('Epoch')\n",
    "plt.title(\"Learning rate %f\"%(learning_rate))\n",
    "plt.legend()\n",
    "plt.show()"
   ]
  },
  {
   "cell_type": "markdown",
   "id": "7f72684a",
   "metadata": {},
   "source": [
    "# 6 - Test the trained model\n",
    "- Let's create some random points in the x-axis within the model's interval that will serve as test data.\n",
    "- We will do the same data manipulations as before."
   ]
  },
  {
   "cell_type": "code",
   "execution_count": 30,
   "id": "b953f650",
   "metadata": {},
   "outputs": [],
   "source": [
    "test_points = 50\n",
    "x_test = np.random.uniform(0, np.max(x_norm.detach().numpy()), test_points)\n",
    "x_test_reshape = x_test.reshape((int(len(x_test) / n_input), n_input))\n",
    "x_test_torch = torch.from_numpy(x_test_reshape)\n",
    "x_test_torch = x_test_torch.to(dtype=torch.float32)"
   ]
  },
  {
   "cell_type": "markdown",
   "id": "3cc5f187",
   "metadata": {},
   "source": [
    "Now we predict the y-value with our model:"
   ]
  },
  {
   "cell_type": "code",
   "execution_count": 31,
   "id": "cfa4d71a",
   "metadata": {},
   "outputs": [],
   "source": [
    "y0_test_torch = model0(x_test_torch)\n",
    "y1_test_torch = model1(x_test_torch)\n",
    "y2_test_torch = model2(x_test_torch)"
   ]
  },
  {
   "cell_type": "code",
   "execution_count": 32,
   "id": "bfbc0ae0",
   "metadata": {},
   "outputs": [
    {
     "data": {
      "text/plain": [
       "<matplotlib.legend.Legend at 0x7f72740d30a0>"
      ]
     },
     "execution_count": 32,
     "metadata": {},
     "output_type": "execute_result"
    },
    {
     "data": {
      "image/png": "[encoded data removed]",
      "text/plain": [
       "<Figure size 720x504 with 1 Axes>"
      ]
     },
     "metadata": {
      "needs_background": "light"
     },
     "output_type": "display_data"
    }
   ],
   "source": [
    "plt.plot(x_norm.detach().numpy(), y_norm.detach().numpy())\n",
    "plt.scatter(x_test_torch.detach().numpy(), y0_test_torch.detach().numpy(), color='red', label='Model 0')\n",
    "plt.scatter(x_test_torch.detach().numpy(), y1_test_torch.detach().numpy(), color='orange', label='Model 1')\n",
    "plt.scatter(x_test_torch.detach().numpy(), y2_test_torch.detach().numpy(), color='green', label='Model 2')\n",
    "plt.legend()"
   ]
  },
  {
   "cell_type": "code",
   "execution_count": null,
   "id": "6455d58a",
   "metadata": {},
   "outputs": [],
   "source": [
    "# %reset -f"
   ]
  },
  {
   "cell_type": "code",
   "execution_count": null,
   "id": "63b3719c",
   "metadata": {},
   "outputs": [],
   "source": []
  }
 ],
 "metadata": {
  "kernelspec": {
   "display_name": "Python 3 (ipykernel)",
   "language": "python",
   "name": "python3"
  },
  "language_info": {
   "codemirror_mode": {
    "name": "ipython",
    "version": 3
   },
   "file_extension": ".py",
   "mimetype": "text/x-python",
   "name": "python",
   "nbconvert_exporter": "python",
   "pygments_lexer": "ipython3",
   "version": "3.8.10"
  }
 },
 "nbformat": 4,
 "nbformat_minor": 5
}
