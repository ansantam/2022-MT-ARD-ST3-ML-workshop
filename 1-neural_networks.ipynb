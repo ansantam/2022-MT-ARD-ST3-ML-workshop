{
 "cells": [
  {
   "cell_type": "code",
   "execution_count": 2,
   "id": "2ac47cb3",
   "metadata": {},
   "outputs": [],
   "source": [
    "%matplotlib inline\n",
    "from preamble import *"
   ]
  },
  {
   "cell_type": "code",
   "execution_count": 3,
   "id": "448b459d",
   "metadata": {},
   "outputs": [],
   "source": [
    "import torch\n",
    "import torch.nn as nn"
   ]
  },
  {
   "cell_type": "markdown",
   "id": "69778674",
   "metadata": {},
   "source": [
    "# Conventions for this notebook\n",
    "\n",
    "## Jargon\n",
    "- Unit = neuron\n",
    "- Model = neural network\n",
    "- Feature = dimension of input vector\n",
    "- Hypothesis = output of the model\n",
    "\n",
    "\n",
    "## Indices\n",
    "- $j$ = layer label\n",
    "- $i$ = unit label in a particular layer\n",
    "- $m$ = number of features (length of input vector)\n",
    "\n",
    "## Scalars\n",
    "- $L$ = total number of layers\n",
    "- $u^j$ = number of units in layer $j$\n",
    "- $a_i^j$ is the activation unit $i$ in layer $j$\n",
    "\n",
    "## Vectors and matrices\n",
    "- $x$: input vector of dimension $(m \\times 1)$\n",
    "- $a^j$: activation vector of layer $j$ of dimension $(u^j \\times 1)$\n",
    "- $\\theta^j$: weight matrix from layer $j$ to $j+1$, of dimension $[u^{j+1} \\times (u^j + 1)]$, \n",
    "<span style='color:Blue'> where the $+1$ accounts for the bias unit </span>\n",
    "\n",
    "\n",
    "\n",
    "$$\n",
    "x =\n",
    "\\begin{bmatrix}\n",
    "x_0 \\\\\n",
    "x_1 \\\\\n",
    "\\vdots \\\\\n",
    "x_m\n",
    "\\end{bmatrix} \\ \\ ; \\ \\\n",
    "\\theta^j =\n",
    "\\begin{bmatrix}\n",
    "\\theta_{10} & \\dots & \\theta_{1(u^j + 1)}\\\\\n",
    "\\theta_{20} & \\ddots\\\\\n",
    "\\vdots \\\\\n",
    "\\theta_{(u^{j+1}) 0} & & \\theta_{(u^{j+1})(u^j + 1)}\\\\\n",
    "\\end{bmatrix} \n",
    "$$\n",
    "\n"
   ]
  },
  {
   "cell_type": "markdown",
   "id": "fa2320f4",
   "metadata": {},
   "source": [
    "# Introduction\n",
    "A neural network is a universal function $f(x) = y$ approximator, i.e. it can predict $y$ for a given $x$.\n",
    "In this exercise we want our neural network to represent a non-linear function."
   ]
  },
  {
   "cell_type": "markdown",
   "id": "b7f9b522",
   "metadata": {},
   "source": [
    "# 1. Set the hyperparameters of the artificial neural network (ANN)\n",
    "A **hyperparameter** is a constant parameter whose value is set before the training process begins, and that is used to control the training process.\n",
    "\n",
    "## Model hyperparameters\n",
    "They refer to the model selection task, i.e. the architecture of the NN.\n",
    "- `n_input`: size of input layer\n",
    "- `n_hidden`: size of hidden layer\n",
    "- `n_out`: size of output layer\n",
    "\n",
    "## Algorithm hyperparameters\n",
    "They have no influence on the performance of the model but affect the speed and quality of the training.\n",
    "- `batch_size`: length of the data to be passed to the neural network at a time\n",
    "- `learning_rate`: controls how much to change the model in response to the estimated error each time the model weights are updated. A value too small can lead to a long training process, and a value too large can lead to an unstable training process. It can be set-up to be adaptive, meaning it changes during training."
   ]
  },
  {
   "cell_type": "code",
   "execution_count": 5,
   "id": "78d7d76f",
   "metadata": {},
   "outputs": [],
   "source": [
    "n_input, n_hidden, n_out, batch_size, learning_rate = 10, 15, 1, 100, 0.01"
   ]
  },
  {
   "cell_type": "markdown",
   "id": "bd82d8db",
   "metadata": {},
   "source": [
    "<span style='font-family:\"Helvetica\"; background:yellow; font-size:1.4em' >\n",
    " How much do you think each hyperparameter will affect the quality of the model? \n",
    "</span>"
   ]
  },
  {
   "cell_type": "markdown",
   "id": "f4f44199",
   "metadata": {},
   "source": [
    "# 2 - Build your model"
   ]
  },
  {
   "cell_type": "markdown",
   "id": "3eedf40a",
   "metadata": {},
   "source": [
    "[`Sequential`](https://pytorch.org/docs/stable/generated/torch.nn.Sequential.html#torch.nn.Sequential) stands for sequential container, where modules can be added sequentially and are connected in a cascading way. The output for each module is forwarded sequentially to the next."
   ]
  },
  {
   "cell_type": "code",
   "execution_count": 8,
   "id": "71ce8cfb",
   "metadata": {},
   "outputs": [
    {
     "name": "stdout",
     "output_type": "stream",
     "text": [
      "Sequential(\n",
      "  (0): Linear(in_features=10, out_features=15, bias=True)\n",
      "  (1): ReLU()\n",
      "  (2): Linear(in_features=15, out_features=1, bias=True)\n",
      "  (3): Sigmoid()\n",
      ")\n"
     ]
    }
   ],
   "source": [
    "model = nn.Sequential(nn.Linear(n_input, n_hidden),\n",
    "                      nn.ReLU(),\n",
    "                      nn.Linear(n_hidden, n_out),\n",
    "                      nn.Sigmoid())\n",
    "print(model)"
   ]
  },
  {
   "cell_type": "markdown",
   "id": "4c905a1b",
   "metadata": {},
   "source": [
    "You can uncomment and execute the next line to explore the methods of the `model` object you created"
   ]
  },
  {
   "cell_type": "code",
   "execution_count": 14,
   "id": "2d4584d5",
   "metadata": {},
   "outputs": [],
   "source": [
    "# dir(model)"
   ]
  },
  {
   "cell_type": "markdown",
   "id": "f6d3419d",
   "metadata": {},
   "source": [
    "## 2.1 - Understanding the model\n",
    "Try the `parameters` method (needs to be instantiated)."
   ]
  },
  {
   "cell_type": "code",
   "execution_count": 9,
   "id": "a0d0892c",
   "metadata": {},
   "outputs": [
    {
     "data": {
      "text/plain": [
       "<generator object Module.parameters at 0x7ff6f6c5e9e0>"
      ]
     },
     "execution_count": 9,
     "metadata": {},
     "output_type": "execute_result"
    }
   ],
   "source": [
    "model.parameters()"
   ]
  },
  {
   "cell_type": "markdown",
   "id": "c834e0b8",
   "metadata": {},
   "source": [
    "The `parameters` method gives back a generator, which means it needs to be iterated over to give back an output:"
   ]
  },
  {
   "cell_type": "code",
   "execution_count": 21,
   "id": "08caf645",
   "metadata": {},
   "outputs": [
    {
     "name": "stdout",
     "output_type": "stream",
     "text": [
      "torch.Size([15, 10])\n",
      "torch.Size([15])\n",
      "torch.Size([1, 15])\n",
      "torch.Size([1])\n"
     ]
    }
   ],
   "source": [
    "for element in model.parameters():\n",
    "    print(element.shape)"
   ]
  },
  {
   "cell_type": "markdown",
   "id": "e44a30e9",
   "metadata": {
    "solution2": "hidden",
    "solution2_first": true
   },
   "source": [
    "<span style='font-family:\"Helvetica\"; background:yellow; font-size:1.4em' >\n",
    " Without taking into account any bias unit: can you identify the elements of the model by their dimensions?\n",
    "</span>"
   ]
  },
  {
   "cell_type": "markdown",
   "id": "e7407d62",
   "metadata": {
    "solution2": "hidden"
   },
   "source": [
    "- The first element corresponds to the weight matrix $\\theta^1$ from layer 1 to layer 2, of dimensions $u^{j+1} \\times u^j = u^{2} \\times (u^1) = 15 \\times 10$\n",
    "- The second element corresponds to the values of the activation units in layer 2\n",
    "- The third element corresponds to the weight matrix $\\theta^2$ from layer 2 to layer 3, of dimensions $u^{j+1} \\times u^j = u^{3} \\times (u^2) = 1 \\times 15$\n",
    "- The fourth element is the output of the model"
   ]
  },
  {
   "cell_type": "markdown",
   "id": "f11f48b6",
   "metadata": {},
   "source": [
    "# 3 - Define the loss function\n",
    "- `torch.nn` provides many different types of [loss functions](https://pytorch.org/docs/stable/nn.html#loss-functions). One of the most popular ones in the [Mean Squared Error (MSE)](https://pytorch.org/docs/stable/generated/torch.nn.MSELoss.html#torch.nn.MSELoss) since it can be applied to a wide variety of cases.\n",
    "- In general cost functions are chosen depending on desirable properties, such as convexity."
   ]
  },
  {
   "cell_type": "code",
   "execution_count": 22,
   "id": "2ebd648b",
   "metadata": {},
   "outputs": [],
   "source": [
    "loss_function = nn.MSELoss()"
   ]
  },
  {
   "cell_type": "markdown",
   "id": "b443be59",
   "metadata": {},
   "source": [
    "# 4 - Define the optimizer\n",
    "[`torch.optim`](https://pytorch.org/docs/stable/optim.html) provides implementations of various optimization algorithms. The optimizer object will hold the current state and will update the parameters of the model based on computer gradients. It takes as an input an iterable containing the model parameters, that we explored before."
   ]
  },
  {
   "cell_type": "code",
   "execution_count": 23,
   "id": "8921c861",
   "metadata": {},
   "outputs": [],
   "source": [
    "optimizer = torch.optim.SGD(model.parameters(), lr=learning_rate)"
   ]
  },
  {
   "cell_type": "markdown",
   "id": "5fbca570",
   "metadata": {},
   "source": [
    "# 5 - Train the model on a loop\n",
    "The model learns iteratively in a loop of a given number of epochs. Each loop consists of:\n",
    "- A forward propagation: compute $y$ given the input and current weights and calculate the loss\n",
    "- A backward propagation: compute the gradient of the loss function (error of the lost at each unit)\n",
    "- Gradient descent: update model weights"
   ]
  },
  {
   "cell_type": "code",
   "execution_count": 6,
   "id": "aa24a661",
   "metadata": {},
   "outputs": [],
   "source": [
    "data_x = torch.randn(batch_size, n_input)\n",
    "data_y = (torch.rand(size=(batch_size, 1)) < 0.5).float()"
   ]
  },
  {
   "cell_type": "code",
   "execution_count": 7,
   "id": "3b9231b4",
   "metadata": {},
   "outputs": [
    {
     "name": "stdout",
     "output_type": "stream",
     "text": [
      "torch.Size([100, 10])\n",
      "torch.Size([100, 1])\n"
     ]
    }
   ],
   "source": [
    "print(data_x.size())\n",
    "print(data_y.size())"
   ]
  },
  {
   "cell_type": "code",
   "execution_count": 24,
   "id": "77062514",
   "metadata": {},
   "outputs": [],
   "source": [
    "losses = []\n",
    "for epoch in range(5000):\n",
    "    pred_y = model(data_x)\n",
    "    loss = loss_function(pred_y, data_y)\n",
    "    losses.append(loss.item())\n",
    "\n",
    "    model.zero_grad()\n",
    "    loss.backward()\n",
    "\n",
    "    optimizer.step()"
   ]
  },
  {
   "cell_type": "code",
   "execution_count": 25,
   "id": "bd335e65",
   "metadata": {},
   "outputs": [
    {
     "data": {
      "image/png": "[encoded data removed]",
      "text/plain": [
       "<Figure size 432x288 with 1 Axes>"
      ]
     },
     "metadata": {
      "needs_background": "light"
     },
     "output_type": "display_data"
    }
   ],
   "source": [
    "plt.plot(losses)\n",
    "plt.ylabel('loss')\n",
    "plt.xlabel('epoch')\n",
    "plt.title(\"Learning rate %f\"%(learning_rate))\n",
    "plt.show()"
   ]
  },
  {
   "cell_type": "code",
   "execution_count": null,
   "id": "bfbc0ae0",
   "metadata": {},
   "outputs": [],
   "source": []
  }
 ],
 "metadata": {
  "kernelspec": {
   "display_name": "Python 3 (ipykernel)",
   "language": "python",
   "name": "python3"
  },
  "language_info": {
   "codemirror_mode": {
    "name": "ipython",
    "version": 3
   },
   "file_extension": ".py",
   "mimetype": "text/x-python",
   "name": "python",
   "nbconvert_exporter": "python",
   "pygments_lexer": "ipython3",
   "version": "3.8.10"
  }
 },
 "nbformat": 4,
 "nbformat_minor": 5
}
