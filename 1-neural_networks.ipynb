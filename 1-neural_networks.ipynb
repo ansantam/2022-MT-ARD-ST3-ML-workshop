{
 "cells": [
  {
   "cell_type": "code",
   "execution_count": 1,
   "id": "2ac47cb3",
   "metadata": {},
   "outputs": [],
   "source": [
    "%matplotlib inline\n",
    "from preamble import *"
   ]
  },
  {
   "cell_type": "code",
   "execution_count": 2,
   "id": "448b459d",
   "metadata": {},
   "outputs": [],
   "source": [
    "import torch\n",
    "import torch.nn as nn"
   ]
  },
  {
   "cell_type": "markdown",
   "id": "69778674",
   "metadata": {},
   "source": [
    "# Conventions for this notebook\n",
    "\n",
    "## Jargon\n",
    "- Unit = activation = neuron\n",
    "- Model = neural network\n",
    "- Feature = dimension of input vector\n",
    "- Hypothesis = output of the model\n",
    "\n",
    "\n",
    "## Indices\n",
    "- $j$ = layer label\n",
    "- $i$ = unit label in a particular layer\n",
    "- $m$ = number of features (length of input vector)\n",
    "\n",
    "## Scalars\n",
    "- $L$ = total number of layers\n",
    "- $u^j$ = number of units in layer $j$\n",
    "- $a_i^j$ is the activation unit $i$ in layer $j$\n",
    "\n",
    "## Vectors and matrices\n",
    "- $x$: input vector of dimension $(m \\times 1)$\n",
    "- $a^j$: activation vector of layer $j$ of dimension $(u^j \\times 1)$\n",
    "- $\\theta^j$: weight matrix from layer $j$ to $j+1$, of dimension $[u^{j+1} \\times (u^j + 1)]$, \n",
    "<span style='color:Blue'> where the $+1$ accounts for the bias unit </span>\n",
    "\n",
    "\n",
    "\n",
    "$$\n",
    "x =\n",
    "\\begin{bmatrix}\n",
    "x_0 \\\\\n",
    "x_1 \\\\\n",
    "\\vdots \\\\\n",
    "x_m\n",
    "\\end{bmatrix} \\ \\ ; \\ \\\n",
    "\\theta^j =\n",
    "\\begin{bmatrix}\n",
    "\\theta_{10} & \\dots & \\theta_{1(u^j + 1)}\\\\\n",
    "\\theta_{20} & \\ddots\\\\\n",
    "\\vdots \\\\\n",
    "\\theta_{(u^{j+1}) 0} & & \\theta_{(u^{j+1})(u^j + 1)}\\\\\n",
    "\\end{bmatrix} \n",
    "$$\n",
    "\n"
   ]
  },
  {
   "cell_type": "markdown",
   "id": "fa2320f4",
   "metadata": {},
   "source": [
    "# 0. Introduction\n",
    "In this notebook we will train a neural network to fit an arbitrary function.\n",
    "\n",
    "## 0.1. Universal Approximation Theorem\n",
    "- When the activation function is non-linear, then a two-layer neural network can be proven to be a **universal function approximator**.\n",
    "- <span style='color:red'> This is where the power of neural networks comes from! </span>\n",
    "\n",
    "## 0.2. Load the function to fit\n",
    "In this case it is a small part of a coherent synchrotron radiation signal at KARA. Notice that this data is considered to have only one feature."
   ]
  },
  {
   "cell_type": "code",
   "execution_count": 3,
   "id": "ac83faba",
   "metadata": {},
   "outputs": [],
   "source": [
    "# hf_data = h5py.File('data/data_nb1.h5', 'r')\n",
    "# y = np.asarray(hf_data.get('pulse'))\n",
    "# x = np.arange(1, len(y) + 1)\n",
    "# hf_data.close()\n",
    "# plt.scatter(x, y)"
   ]
  },
  {
   "cell_type": "code",
   "execution_count": 4,
   "id": "2f6736c5",
   "metadata": {},
   "outputs": [],
   "source": [
    "x = np.logspace(-2, 0, 300)"
   ]
  },
  {
   "cell_type": "code",
   "execution_count": 38,
   "id": "079b9917",
   "metadata": {},
   "outputs": [],
   "source": [
    "y = np.sin(2.5*x) *0.5"
   ]
  },
  {
   "cell_type": "code",
   "execution_count": 39,
   "id": "36bd2907",
   "metadata": {},
   "outputs": [
    {
     "data": {
      "text/plain": [
       "[<matplotlib.lines.Line2D at 0x7f1a95afef70>]"
      ]
     },
     "execution_count": 39,
     "metadata": {},
     "output_type": "execute_result"
    },
    {
     "data": {
      "image/png": "[encoded data removed]",
      "text/plain": [
       "<Figure size 1080x216 with 1 Axes>"
      ]
     },
     "metadata": {
      "needs_background": "light"
     },
     "output_type": "display_data"
    }
   ],
   "source": [
    "plt.plot(x, y)"
   ]
  },
  {
   "cell_type": "markdown",
   "id": "4335bb62",
   "metadata": {},
   "source": [
    "Before starting, let's convert our numpy arrays to torch tensors.\n",
    "The model will take only `float` types."
   ]
  },
  {
   "cell_type": "code",
   "execution_count": 40,
   "id": "78d7d76f",
   "metadata": {},
   "outputs": [],
   "source": [
    "# n_input, n_hidden, n_out, batch_size, learning_rate = len(y), int(len(y)/5), len(y), 100, 0.01\n",
    "n_input = 1\n",
    "n_hidden_1 = 10\n",
    "n_hidden_2 = 10\n",
    "n_out = 1\n",
    "batch_size = 100 \n",
    "learning_rate = 0.015"
   ]
  },
  {
   "cell_type": "code",
   "execution_count": 41,
   "id": "48411a29",
   "metadata": {},
   "outputs": [
    {
     "name": "stdout",
     "output_type": "stream",
     "text": [
      "(300,)\n"
     ]
    }
   ],
   "source": [
    "print(x.shape)"
   ]
  },
  {
   "cell_type": "code",
   "execution_count": 42,
   "id": "ad9f570e",
   "metadata": {},
   "outputs": [],
   "source": [
    "x_reshape = x.reshape((int(len(x) / n_input), n_input))"
   ]
  },
  {
   "cell_type": "code",
   "execution_count": 43,
   "id": "530396fa",
   "metadata": {},
   "outputs": [],
   "source": [
    "y_reshape = y.reshape((int(len(y) / n_out), n_out))"
   ]
  },
  {
   "cell_type": "code",
   "execution_count": 44,
   "id": "73b3686d",
   "metadata": {},
   "outputs": [
    {
     "name": "stdout",
     "output_type": "stream",
     "text": [
      "(300, 1)\n",
      "(300, 1)\n"
     ]
    }
   ],
   "source": [
    "print(x_reshape.shape)\n",
    "print(y_reshape.shape)"
   ]
  },
  {
   "cell_type": "code",
   "execution_count": 45,
   "id": "85e20740",
   "metadata": {},
   "outputs": [
    {
     "name": "stdout",
     "output_type": "stream",
     "text": [
      "float64 float64\n"
     ]
    }
   ],
   "source": [
    "print(x.dtype, y.dtype)"
   ]
  },
  {
   "cell_type": "code",
   "execution_count": 46,
   "id": "8644c92e",
   "metadata": {},
   "outputs": [],
   "source": [
    "x_reshape = x_reshape.astype(np.float32)\n",
    "y_reshape = y_reshape.astype(np.float32)"
   ]
  },
  {
   "cell_type": "code",
   "execution_count": 47,
   "id": "d79f9d33",
   "metadata": {},
   "outputs": [
    {
     "name": "stdout",
     "output_type": "stream",
     "text": [
      "float64 float64\n"
     ]
    }
   ],
   "source": [
    "print(x.dtype, y.dtype)"
   ]
  },
  {
   "cell_type": "code",
   "execution_count": 48,
   "id": "091cd86f",
   "metadata": {},
   "outputs": [],
   "source": [
    "yt = torch.from_numpy(y_reshape)\n",
    "xt = torch.from_numpy(x_reshape)"
   ]
  },
  {
   "cell_type": "markdown",
   "id": "bd82d8db",
   "metadata": {},
   "source": [
    "<span style='font-family:\"Helvetica\"; background:yellow; font-size:1.4em' >\n",
    " How much do you think each hyperparameter will affect the quality of the model? \n",
    "</span>"
   ]
  },
  {
   "cell_type": "markdown",
   "id": "f4f44199",
   "metadata": {},
   "source": [
    "# 2. Build your model"
   ]
  },
  {
   "cell_type": "markdown",
   "id": "3eedf40a",
   "metadata": {},
   "source": [
    "- In PyTorch [`Sequential`](https://pytorch.org/docs/stable/generated/torch.nn.Sequential.html#torch.nn.Sequential) stands for *sequential container*, where modules can be added sequentially and are connected in a cascading way. The output for each module is forwarded sequentially to the next.\n",
    "- Now we will build a simple model with one hidden layer with `Sequential`\n",
    "- Remember that every layer in a neural network is followed by an **activation layer** that performs some additional operations on the neurons.\n",
    "\n",
    "## 2.1 Activation functions\n",
    "\n",
    "## 2.2. Model architecture"
   ]
  },
  {
   "cell_type": "code",
   "execution_count": 49,
   "id": "71ce8cfb",
   "metadata": {},
   "outputs": [],
   "source": [
    "# model = nn.Sequential(nn.Linear(n_input, n_hidden_1),\n",
    "#                       nn.Tanh(),\n",
    "#                       nn.Linear(n_hidden_1, n_hidden_2),\n",
    "#                       nn.Tanh(),\n",
    "#                       nn.Linear(n_hidden_2, n_out)\n",
    "#                       )\n",
    "# print(model)"
   ]
  },
  {
   "cell_type": "code",
   "execution_count": 88,
   "id": "6b992e6d",
   "metadata": {},
   "outputs": [
    {
     "name": "stdout",
     "output_type": "stream",
     "text": [
      "Sequential(\n",
      "  (0): Linear(in_features=1, out_features=10, bias=True)\n",
      "  (1): Tanh()\n",
      "  (2): Linear(in_features=10, out_features=10, bias=True)\n",
      "  (3): Tanh()\n",
      "  (4): Linear(in_features=10, out_features=1, bias=True)\n",
      "  (5): Tanh()\n",
      ")\n"
     ]
    }
   ],
   "source": [
    "model = nn.Sequential(nn.Linear(n_input, n_hidden_1),\n",
    "                      nn.Tanh(),\n",
    "#                       nn.Dropout(0.2),\n",
    "                      nn.Linear(n_hidden_1, n_hidden_2),\n",
    "                      nn.Tanh(),\n",
    "#                       nn.Dropout(0.2),\n",
    "                      nn.Linear(n_hidden_2, n_out),\n",
    "                      nn.Tanh()\n",
    "#                       nn.Sigmoid()\n",
    "                      )\n",
    "print(model)"
   ]
  },
  {
   "cell_type": "markdown",
   "id": "4c905a1b",
   "metadata": {},
   "source": [
    "You can uncomment and execute the next line to explore the methods of the `model` object you created"
   ]
  },
  {
   "cell_type": "code",
   "execution_count": 89,
   "id": "2d4584d5",
   "metadata": {},
   "outputs": [],
   "source": [
    "# dir(model)"
   ]
  },
  {
   "cell_type": "markdown",
   "id": "f6d3419d",
   "metadata": {},
   "source": [
    "## 2.1 - Understanding the PyTorch model\n",
    "Try the `parameters` method (needs to be instantiated)."
   ]
  },
  {
   "cell_type": "code",
   "execution_count": 90,
   "id": "a0d0892c",
   "metadata": {},
   "outputs": [
    {
     "data": {
      "text/plain": [
       "<generator object Module.parameters at 0x7f1a95926120>"
      ]
     },
     "execution_count": 90,
     "metadata": {},
     "output_type": "execute_result"
    }
   ],
   "source": [
    "model.parameters()"
   ]
  },
  {
   "cell_type": "markdown",
   "id": "c834e0b8",
   "metadata": {},
   "source": [
    "The `parameters` method gives back a *generator*, which means it needs to be iterated over to give back an output:"
   ]
  },
  {
   "cell_type": "code",
   "execution_count": 91,
   "id": "08caf645",
   "metadata": {},
   "outputs": [
    {
     "name": "stdout",
     "output_type": "stream",
     "text": [
      "torch.Size([10, 1])\n",
      "torch.Size([10])\n",
      "torch.Size([10, 10])\n",
      "torch.Size([10])\n",
      "torch.Size([1, 10])\n",
      "torch.Size([1])\n"
     ]
    }
   ],
   "source": [
    "for element in model.parameters():\n",
    "    print(element.shape)"
   ]
  },
  {
   "cell_type": "markdown",
   "id": "e44a30e9",
   "metadata": {},
   "source": [
    "<span style='font-family:\"Helvetica\"; background:yellow; font-size:1.4em' >\n",
    "     Without taking into account any bias unit: can you identify the elements of the model by their dimensions?\n",
    "</span>"
   ]
  },
  {
   "cell_type": "markdown",
   "id": "a750495a",
   "metadata": {},
   "source": [
    "- The first element corresponds to the weight matrix $\\theta^1$ from layer 1 to layer 2, of dimensions $u^{j+1} \\times u^j = u^2 \\times u^1 = 15 \\times 10$\n",
    "- The second element corresponds to the values of the activation units in layer 2\n",
    "- The third element corresponds to the weight matrix $\\theta^2$ from layer 2 to layer 3, of dimensions $u^{j+1} \\times u^j = u^3 \\times u^3 = 1 \\times 15$\n",
    "- The fourth element is the output of the model"
   ]
  },
  {
   "cell_type": "markdown",
   "id": "35a13a21",
   "metadata": {},
   "source": [
    "Let's have a look at what the contents of those tensors:"
   ]
  },
  {
   "cell_type": "code",
   "execution_count": 92,
   "id": "383b806d",
   "metadata": {},
   "outputs": [],
   "source": [
    "# for element in model.parameters():\n",
    "#     print(element)"
   ]
  },
  {
   "cell_type": "markdown",
   "id": "e6da98e7",
   "metadata": {},
   "source": [
    "<span style='font-family:\"Helvetica\"; background:yellow; font-size:1.4em' >\n",
    "     What are these values?\n",
    "</span>"
   ]
  },
  {
   "cell_type": "markdown",
   "id": "bd9f7ac0",
   "metadata": {},
   "source": [
    "They have been randomly initialized"
   ]
  },
  {
   "cell_type": "markdown",
   "id": "e7407d62",
   "metadata": {},
   "source": [
    "- The first element corresponds to the weight matrix $\\theta^1$ from layer 1 to layer 2, of dimensions $u^{j+1} \\times u^j = u^{2} \\times (u^1) = 15 \\times 10$\n",
    "- The second element corresponds to the values of the activation units in layer 2\n",
    "- The third element corresponds to the weight matrix $\\theta^2$ from layer 2 to layer 3, of dimensions $u^{j+1} \\times u^j = u^{3} \\times (u^2) = 1 \\times 15$\n",
    "- The fourth element is the output of the model"
   ]
  },
  {
   "cell_type": "markdown",
   "id": "f11f48b6",
   "metadata": {},
   "source": [
    "# 3 - Define the loss function\n",
    "- Reminder: the **loss function** measures how distant the predictions made by the model are from the actual values\n",
    "- `torch.nn` provides many different types of [loss functions](https://pytorch.org/docs/stable/nn.html#loss-functions). One of the most popular ones in the [Mean Squared Error (MSE)](https://pytorch.org/docs/stable/generated/torch.nn.MSELoss.html#torch.nn.MSELoss) since it can be applied to a wide variety of cases.\n",
    "- In general cost functions are chosen depending on desirable properties, such as convexity."
   ]
  },
  {
   "cell_type": "code",
   "execution_count": 93,
   "id": "2ebd648b",
   "metadata": {},
   "outputs": [],
   "source": [
    "loss_function = nn.MSELoss()"
   ]
  },
  {
   "cell_type": "markdown",
   "id": "b443be59",
   "metadata": {},
   "source": [
    "# 4 - Define the optimizer\n",
    "[`torch.optim`](https://pytorch.org/docs/stable/optim.html) provides implementations of various optimization algorithms. The optimizer object will hold the current state and will update the parameters of the model based on computer gradients. It takes as an input an iterable containing the model parameters, that we explored before."
   ]
  },
  {
   "cell_type": "code",
   "execution_count": 94,
   "id": "8921c861",
   "metadata": {},
   "outputs": [],
   "source": [
    "# optimizer = torch.optim.SGD(model.parameters(), lr=learning_rate)\n",
    "optimizer = torch.optim.Adam(model.parameters(), lr=learning_rate)\n",
    "# optimizer = torch.optim.ASGD(model.parameters(), lr=learning_rate)"
   ]
  },
  {
   "cell_type": "markdown",
   "id": "5fbca570",
   "metadata": {},
   "source": [
    "# 5 - Train the model on a loop\n",
    "The model learns iteratively in a loop of a given number of epochs. Each loop consists of:\n",
    "- A **forward propagation**: compute $y$ given the input $x$ and current weights and calculate the loss\n",
    "- A **backward propagation**: compute the gradient of the loss function (error of the loss at each unit)\n",
    "- Gradient descent: update model weights"
   ]
  },
  {
   "cell_type": "code",
   "execution_count": 95,
   "id": "256226ea",
   "metadata": {},
   "outputs": [
    {
     "name": "stdout",
     "output_type": "stream",
     "text": [
      "torch.float32 torch.float32\n"
     ]
    }
   ],
   "source": [
    "print(xt.dtype, yt.dtype)"
   ]
  },
  {
   "cell_type": "code",
   "execution_count": 96,
   "id": "17e12a45",
   "metadata": {},
   "outputs": [],
   "source": [
    "# for i in xt:\n",
    "#     pred_y = model(i.unsqueeze(dim=0))"
   ]
  },
  {
   "cell_type": "code",
   "execution_count": 97,
   "id": "520e36db",
   "metadata": {},
   "outputs": [],
   "source": [
    "# losses = []\n",
    "# for epoch in range(5000):\n",
    "#     pred_y = model(xt)\n",
    "#     loss = loss_function(pred_y, yt)\n",
    "#     losses.append(loss.item())\n",
    "\n",
    "#     # Zero gradients from previous steps\n",
    "#     model.zero_grad()\n",
    "    \n",
    "#     # Perform backpropagation\n",
    "#     loss.backward()\n",
    "    \n",
    "#     # Update model parameters\n",
    "#     optimizer.step()"
   ]
  },
  {
   "cell_type": "code",
   "execution_count": 98,
   "id": "7c9490e1",
   "metadata": {},
   "outputs": [],
   "source": [
    "# for xx, yy in zip(xt, yt):\n",
    "#     print(xx)\n",
    "#     print(xx.unsqueeze(dim=0))"
   ]
  },
  {
   "cell_type": "code",
   "execution_count": 99,
   "id": "77062514",
   "metadata": {},
   "outputs": [],
   "source": [
    "losses = []\n",
    "for epoch in range(000):\n",
    "    \"\"\"\n",
    "    for xx, yy in zip(xt, yt):\n",
    "#         print(xx, yy)\n",
    "        # Zero gradients from previous steps\n",
    "        optimizer.zero_grad()\n",
    "        \n",
    "        pred_y = model(xx)\n",
    "        loss = loss_function(pred_y, yy)\n",
    "#         pred_y = model(xx.unsqueeze(dim=0))\n",
    "#         loss = loss_function(pred_y, yy.unsqueeze(dim=0))\n",
    "        losses.append(loss.item())\n",
    "\n",
    "        # Perform backpropagation\n",
    "        loss.backward()\n",
    "\n",
    "        # Update model parameters\n",
    "        optimizer.step()\n",
    "    \"\"\"\n",
    "    pred_y = model(xt)\n",
    "    optimizer.zero_grad()\n",
    "    loss = loss_function(pred_y, yt)\n",
    "    losses.append(loss.item())\n",
    "    loss.backward()\n",
    "    optimizer.step()"
   ]
  },
  {
   "cell_type": "code",
   "execution_count": 100,
   "id": "bd335e65",
   "metadata": {},
   "outputs": [
    {
     "data": {
      "image/png": "[encoded data removed]",
      "text/plain": [
       "<Figure size 1080x216 with 1 Axes>"
      ]
     },
     "metadata": {
      "needs_background": "light"
     },
     "output_type": "display_data"
    }
   ],
   "source": [
    "plt.plot(losses)\n",
    "plt.ylabel('loss')\n",
    "plt.xlabel('epoch')\n",
    "plt.title(\"Learning rate %f\"%(learning_rate))\n",
    "plt.show()"
   ]
  },
  {
   "cell_type": "code",
   "execution_count": 101,
   "id": "403f50a7",
   "metadata": {},
   "outputs": [
    {
     "name": "stdout",
     "output_type": "stream",
     "text": [
      "float32\n"
     ]
    }
   ],
   "source": [
    "points = 50\n",
    "x_pred = np.random.uniform(0, np.max(x), points)\n",
    "xtt = x_pred.astype(np.float32)\n",
    "print(xtt.dtype)\n",
    "xtt = xtt.reshape((int(len(xtt) / n_input), n_input))\n",
    "x_pred_t = torch.from_numpy(xtt)"
   ]
  },
  {
   "cell_type": "code",
   "execution_count": 102,
   "id": "cfa4d71a",
   "metadata": {},
   "outputs": [],
   "source": [
    "y_pred_t = torch.empty((points,1))\n",
    "y_pred_t = []\n",
    "\n",
    "for i in x_pred_t:\n",
    "    j = model(i)\n",
    "#     print(j)\n",
    "#     j = model(i.unsqueeze(dim=0))\n",
    "#     print(j)\n",
    "#     print(j.detach().numpy())\n",
    "#     torch.add(y_pred_t, j)\n",
    "    y_pred_t.append(j.detach().numpy())"
   ]
  },
  {
   "cell_type": "code",
   "execution_count": 103,
   "id": "e508999c",
   "metadata": {},
   "outputs": [],
   "source": [
    "y_pred_t = np.asarray(y_pred_t)"
   ]
  },
  {
   "cell_type": "code",
   "execution_count": 104,
   "id": "24641423",
   "metadata": {},
   "outputs": [],
   "source": [
    "y_pred_t = y_pred_t.flatten()"
   ]
  },
  {
   "cell_type": "code",
   "execution_count": 105,
   "id": "2432fbda",
   "metadata": {},
   "outputs": [
    {
     "name": "stdout",
     "output_type": "stream",
     "text": [
      "(50,) (50,)\n"
     ]
    }
   ],
   "source": [
    "print(y_pred_t.shape, x_pred.shape)"
   ]
  },
  {
   "cell_type": "code",
   "execution_count": 106,
   "id": "b7fe6650",
   "metadata": {},
   "outputs": [],
   "source": [
    "# print(y_pred_t)"
   ]
  },
  {
   "cell_type": "code",
   "execution_count": 107,
   "id": "893b826a",
   "metadata": {},
   "outputs": [],
   "source": [
    "# print(y_pred_t.numpy())"
   ]
  },
  {
   "cell_type": "code",
   "execution_count": 108,
   "id": "bfbc0ae0",
   "metadata": {},
   "outputs": [
    {
     "data": {
      "text/plain": [
       "<matplotlib.collections.PathCollection at 0x7f1a9583d670>"
      ]
     },
     "execution_count": 108,
     "metadata": {},
     "output_type": "execute_result"
    },
    {
     "data": {
      "image/png": "[encoded data removed]",
      "text/plain": [
       "<Figure size 1080x216 with 1 Axes>"
      ]
     },
     "metadata": {
      "needs_background": "light"
     },
     "output_type": "display_data"
    }
   ],
   "source": [
    "plt.plot(x, y)\n",
    "plt.scatter(x_pred, y_pred_t, color='red')\n",
    "# plt.ylim([0, 0.1])"
   ]
  },
  {
   "cell_type": "code",
   "execution_count": null,
   "id": "6455d58a",
   "metadata": {},
   "outputs": [],
   "source": []
  }
 ],
 "metadata": {
  "kernelspec": {
   "display_name": "Python 3 (ipykernel)",
   "language": "python",
   "name": "python3"
  },
  "language_info": {
   "codemirror_mode": {
    "name": "ipython",
    "version": 3
   },
   "file_extension": ".py",
   "mimetype": "text/x-python",
   "name": "python",
   "nbconvert_exporter": "python",
   "pygments_lexer": "ipython3",
   "version": "3.8.10"
  }
 },
 "nbformat": 4,
 "nbformat_minor": 5
}
