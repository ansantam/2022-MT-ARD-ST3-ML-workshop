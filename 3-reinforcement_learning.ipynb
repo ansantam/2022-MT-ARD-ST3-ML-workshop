{
 "cells": [
  {
   "cell_type": "markdown",
   "metadata": {},
   "source": [
    "# Part 3: Reinforcement Learning for Particle Accelerators\n",
    "\n",
    "In this part of the workshop we will have a look at Reinforcement Learning (RL) and see how to apply it in practice, including a brief example looking at RL for accelerator optimisation.\n",
    "\n",
    "### Content\n",
    "\n",
    " 0. Introduction to RL\n",
    " 1. Practical example of applying RL on the well-known lunar lander task\n",
    " 2. Practical example of applying RL to a tuning task at the ARES particle accelerator\n",
    " 3. Further resources\n",
    "\n",
    "## 0. Introduction to Reinforcement Learning\n",
    "\n",
    "Reinforcement learning (RL) is a subfield of machine learning (ML), or more specifically a method of training ML models.\n",
    "\n",
    "The idea of RL is to learn by trial and error, where one wants to perform good actions that give high rewards more often and bad actions that give low rewards less often.\n",
    "\n",
    "### What can RL do?\n",
    "\n",
    "Here are some examples of what can be done with RL:\n",
    "\n",
    " - Control robots in simulation\n",
    " - [Play games with imperfect information and develop long-term startegies](https://www.deepmind.com/blog/alphastar-mastering-the-real-time-strategy-game-starcraft-ii)\n",
    " - [Control robot hands in the real world](https://openai.com/blog/learning-dexterity/)\n",
    " - [Control the plasma in a tokamak fusion reactor](https://www.deepmind.com/blog/accelerating-fusion-science-through-learned-plasma-control)\n",
    "\n",
    "<img src=\"img/humanoid.gif\" width=\"24%\"/>\n",
    "<img src=\"img/alphastar.gif\" width=\"24%\"/>\n",
    "<img src=\"img/learning_dexterity.gif\" width=\"24%\"/>\n",
    "<img src=\"img/magnetic_plamsa_control.gif\" width=\"24%\"/>\n",
    "\n",
    "### Key Concepts of RL\n",
    "\n",
    "At the heart of RL is the RL loop shown below that illustrates the relationships and interactions between entities in RL.\n",
    "\n",
    "<img src=\"img/rl_loop.jpg\" width=\"65%\"/>\n",
    "\n",
    "The following are the key entities and concepts in RL:\n",
    "\n",
    " - The **environment** is the world that the RL agent lives in and interacts with. It may be something as simple as the simulation of a robot or something more complex like a particle accelerator in the real world.\n",
    " - **Actions** are how the RL agent interacts with the environment. The can either be discrete (e.g. pressing any of a limited number of buttons) or continuous (setting a limited number of actuators to a certain value).\n",
    " - **Observations** determine how the agent sees the environment. This may, for example, be an image from a camera or the measured values from a number of sensors.\n",
    " - The **state** of the environment is not always fully observed via the observations. In that case, we speak of a partially-observable environment (POMDP).\n",
    " - The **reward** is returned by the environment after each action. And describes the goodness of that action.\n",
    " - The **return** is the cummulative reward over time. The goal of RL is to maximise the return.\n",
    " - The agent uses a function called **policy** to compute the next action from an observation. Finding the optimal policy of RL that maximises the return is the goal of RL. When talking about RL, we often look at deep RL, where an artificial neural network (ANN) is uses to approximate the optimal policy.\n",
    "\n",
    " ### Algorithms\n",
    "\n",
    " In RL we have a large number of algorithms to train the policy and new ones are introduced all the time. Below is a non-exhaustive taxonomy of these algorithms (source [OpenAI Spinning Up](https://spinningup.openai.com/en/latest/spinningup/rl_intro2.html))\n",
    "\n",
    " <img src=\"img/rl_taxonomy.png\" width=\"65%\"/>"
   ]
  },
  {
   "cell_type": "markdown",
   "metadata": {},
   "source": [
    "## 1. Lunar Lander Example\n",
    "\n",
    "In this example, we will train an RL agent on the popular *Lunar Lander* environment. We will be using an implementation of the on-policy algorithm [Proximal Policy Optimisation (PPO)](https://spinningup.openai.com/en/latest/algorithms/ppo.html) provided by the Stable Baselines3 library.\n",
    "\n",
    "The goal in this task is to savely land a lunar lander on the moon, ideally on a landing pad at position (0,0) in the randomly generated lunar landscape.\n",
    "\n",
    "### Action\n",
    "\n",
    "The agent can control the lunar lander by firing the main engine and two thrusters, one on each side of the lander.\n",
    "\n",
    "### Observation\n",
    "\n",
    "The agent can observe the lander's position and velocity in x and y, the landars orientation angle and angular velocity as well as whether the lander's legs are currently touching the ground.\n",
    "\n",
    "### Reward\n",
    "\n",
    "The lander receives negative rewards for moving away from the landing pad. Crashing is punished with a reward of -100. For each leg touching the ground, the lander receives +10 reward. When coming to rest anywhere on the ground, the lander receives +100 points. When coming to rest on the landing pad, the lander receives +200 points. Using fuel gives negative reward with the main engine costing -0.3 when fired and the side thrusters costing -0.03 when fired."
   ]
  },
  {
   "cell_type": "code",
   "execution_count": 2,
   "metadata": {},
   "outputs": [],
   "source": [
    "# Imports\n",
    "\n",
    "import gym\n",
    "from stable_baselines3 import PPO\n",
    "from stable_baselines3.common.env_util import make_vec_env\n",
    "from stable_baselines3.common.vec_env import SubprocVecEnv\n",
    "\n",
    "from utils.rl.helpers import display_ll_training_videos, plot_ll_training_metrics, record_video"
   ]
  },
  {
   "cell_type": "markdown",
   "metadata": {},
   "source": [
    "First we need to create the environment. Environments contained in *Gym* can be created by running\n",
    "\n",
    "```python\n",
    "env = gym.make(\"LunarLander-v2\")\n",
    "```\n",
    "\n",
    "with the environment's name. In order to facilitate faster training using multiple CPU cores, we use a so-called *vectorised environment*, where multiple of the same environment run in parallel. *Stable Baselines3* offers a convenience function `make_vec_env` to create vectorised versions of Gym environments."
   ]
  },
  {
   "cell_type": "code",
   "execution_count": 3,
   "metadata": {},
   "outputs": [
    {
     "name": "stderr",
     "output_type": "stream",
     "text": [
      "/opt/homebrew/Caskroom/miniforge/base/envs/mt-ard-st3-ml-workshop/lib/python3.9/site-packages/gym/wrappers/record_video.py:41: UserWarning: \u001b[33mWARN: Overwriting existing videos at /Users/jankaiser/Documents/DESY/2022-MT-ARD-ST3-ML-workshop/utils/rl/lunar_lander_recordings folder (try specifying a different `video_folder` for the `RecordVideo` wrapper if this is not desired)\u001b[0m\n",
      "  logger.warn(\n"
     ]
    }
   ],
   "source": [
    "venv = make_vec_env(\"LunarLander-v2\", n_envs=16, vec_env_cls=SubprocVecEnv)\n",
    "eval_venv = make_vec_env(\"LunarLander-v2\", wrapper_class=record_video, monitor_dir=\"utils/rl/lunar_lander_evaluations\", vec_env_cls=SubprocVecEnv)"
   ]
  },
  {
   "cell_type": "markdown",
   "metadata": {},
   "source": [
    "Then we create our PPO agent. These objects are the key component of Stable Baselines3 and contain the implementations of the RL algorithms as well as other utilities to handle inference, model saving and more.\n",
    "\n",
    "The agent is configured to use a multi-layer perceptron (MLP) as its policy, the previously created environment for training and a number of known-to-work-well hyperparameters."
   ]
  },
  {
   "cell_type": "code",
   "execution_count": 4,
   "metadata": {},
   "outputs": [],
   "source": [
    "model = PPO(\"MlpPolicy\", env=venv, n_steps=1024, batch_size=64, gae_lambda=0.98, gamma=0.999, n_epochs=4, ent_coef=0.01)"
   ]
  },
  {
   "cell_type": "markdown",
   "metadata": {},
   "source": [
    "Now we can train. Training length/budget is measured in number of timesteps (interactions with the environment). 1 Million steps is known to work well for this particular example."
   ]
  },
  {
   "cell_type": "code",
   "execution_count": 4,
   "metadata": {},
   "outputs": [
    {
     "name": "stderr",
     "output_type": "stream",
     "text": [
      "2022-07-28 16:45:04.760 python[83448:5360860] Error received in message reply handler: Connection invalid\n",
      "2022-07-28 16:45:04.760 python[83448:5360894] Connection Invalid error for service com.apple.hiservices-xpcservice.\n",
      "2022-07-28 16:45:04.773 python[83448:5360860] +[NSXPCSharedListener endpointForReply:withListenerName:]: an error occurred while attempting to obtain endpoint for listener 'ClientCallsAuxiliary': Connection invalid\n"
     ]
    },
    {
     "name": "stdout",
     "output_type": "stream",
     "text": [
      "Eval num_timesteps=16000, episode_reward=-322.36 +/- 73.39\n",
      "Episode length: 67.40 +/- 9.02\n",
      "New best mean reward!\n",
      "Eval num_timesteps=32000, episode_reward=-237.17 +/- 123.72\n",
      "Episode length: 66.60 +/- 7.71\n",
      "New best mean reward!\n",
      "Eval num_timesteps=48000, episode_reward=39.09 +/- 69.58\n",
      "Episode length: 173.40 +/- 132.37\n",
      "New best mean reward!\n",
      "Eval num_timesteps=64000, episode_reward=53.39 +/- 196.87\n",
      "Episode length: 246.40 +/- 58.63\n",
      "New best mean reward!\n",
      "Eval num_timesteps=80000, episode_reward=-309.60 +/- 26.32\n",
      "Episode length: 388.00 +/- 68.33\n",
      "Eval num_timesteps=96000, episode_reward=-122.76 +/- 189.30\n",
      "Episode length: 507.60 +/- 212.94\n",
      "Eval num_timesteps=112000, episode_reward=-235.64 +/- 41.98\n",
      "Episode length: 387.20 +/- 193.46\n",
      "Eval num_timesteps=128000, episode_reward=-129.56 +/- 161.69\n",
      "Episode length: 452.40 +/- 112.32\n",
      "Eval num_timesteps=144000, episode_reward=-12.35 +/- 114.88\n",
      "Episode length: 486.60 +/- 315.32\n",
      "Eval num_timesteps=160000, episode_reward=-203.17 +/- 72.02\n",
      "Episode length: 464.60 +/- 244.08\n",
      "Eval num_timesteps=176000, episode_reward=-129.45 +/- 40.42\n",
      "Episode length: 430.20 +/- 288.93\n",
      "Eval num_timesteps=192000, episode_reward=-230.23 +/- 69.60\n",
      "Episode length: 375.60 +/- 127.26\n",
      "Eval num_timesteps=208000, episode_reward=-168.87 +/- 43.34\n",
      "Episode length: 355.00 +/- 126.18\n",
      "Eval num_timesteps=224000, episode_reward=-137.49 +/- 15.85\n",
      "Episode length: 301.40 +/- 44.30\n",
      "Eval num_timesteps=240000, episode_reward=-168.36 +/- 34.64\n",
      "Episode length: 446.40 +/- 278.77\n",
      "Eval num_timesteps=256000, episode_reward=-168.20 +/- 53.21\n",
      "Episode length: 453.00 +/- 298.34\n",
      "Eval num_timesteps=272000, episode_reward=-215.64 +/- 42.69\n",
      "Episode length: 647.20 +/- 109.82\n",
      "Eval num_timesteps=288000, episode_reward=-130.33 +/- 38.92\n",
      "Episode length: 528.20 +/- 260.77\n",
      "Eval num_timesteps=304000, episode_reward=-123.31 +/- 45.04\n",
      "Episode length: 646.40 +/- 206.06\n",
      "Eval num_timesteps=320000, episode_reward=-61.40 +/- 119.42\n",
      "Episode length: 667.80 +/- 186.20\n",
      "Eval num_timesteps=336000, episode_reward=-146.20 +/- 54.72\n",
      "Episode length: 493.40 +/- 271.61\n",
      "Eval num_timesteps=352000, episode_reward=-155.48 +/- 56.36\n",
      "Episode length: 598.80 +/- 231.95\n",
      "Eval num_timesteps=368000, episode_reward=-103.58 +/- 70.29\n",
      "Episode length: 805.60 +/- 183.26\n",
      "Eval num_timesteps=384000, episode_reward=-123.56 +/- 58.82\n",
      "Episode length: 628.20 +/- 249.48\n",
      "Eval num_timesteps=400000, episode_reward=-118.24 +/- 61.72\n",
      "Episode length: 651.80 +/- 248.99\n",
      "Eval num_timesteps=416000, episode_reward=6.88 +/- 93.43\n",
      "Episode length: 804.80 +/- 168.21\n",
      "Eval num_timesteps=432000, episode_reward=-45.24 +/- 59.64\n",
      "Episode length: 906.80 +/- 163.01\n",
      "Eval num_timesteps=448000, episode_reward=100.78 +/- 102.19\n",
      "Episode length: 858.40 +/- 66.48\n",
      "New best mean reward!\n",
      "Eval num_timesteps=464000, episode_reward=34.23 +/- 87.90\n",
      "Episode length: 923.80 +/- 95.70\n",
      "Eval num_timesteps=480000, episode_reward=182.28 +/- 33.62\n",
      "Episode length: 720.80 +/- 40.79\n",
      "New best mean reward!\n",
      "Eval num_timesteps=496000, episode_reward=128.68 +/- 53.63\n",
      "Episode length: 953.60 +/- 43.05\n",
      "Eval num_timesteps=512000, episode_reward=87.40 +/- 79.88\n",
      "Episode length: 972.00 +/- 26.29\n",
      "Eval num_timesteps=528000, episode_reward=195.96 +/- 20.85\n",
      "Episode length: 608.20 +/- 26.79\n",
      "New best mean reward!\n",
      "Eval num_timesteps=544000, episode_reward=207.23 +/- 20.67\n",
      "Episode length: 542.40 +/- 28.99\n",
      "New best mean reward!\n",
      "Eval num_timesteps=560000, episode_reward=209.23 +/- 19.13\n",
      "Episode length: 547.60 +/- 69.85\n",
      "New best mean reward!\n",
      "Eval num_timesteps=576000, episode_reward=136.50 +/- 106.74\n",
      "Episode length: 555.60 +/- 73.42\n",
      "Eval num_timesteps=592000, episode_reward=216.51 +/- 28.75\n",
      "Episode length: 481.80 +/- 14.19\n",
      "New best mean reward!\n",
      "Eval num_timesteps=608000, episode_reward=203.37 +/- 29.29\n",
      "Episode length: 569.20 +/- 58.04\n",
      "Eval num_timesteps=624000, episode_reward=229.93 +/- 27.97\n",
      "Episode length: 494.60 +/- 7.63\n",
      "New best mean reward!\n",
      "Eval num_timesteps=640000, episode_reward=227.95 +/- 13.11\n",
      "Episode length: 480.20 +/- 19.79\n",
      "Eval num_timesteps=656000, episode_reward=237.93 +/- 26.26\n",
      "Episode length: 460.20 +/- 36.19\n",
      "New best mean reward!\n",
      "Eval num_timesteps=672000, episode_reward=220.54 +/- 14.33\n",
      "Episode length: 412.40 +/- 24.11\n",
      "Eval num_timesteps=688000, episode_reward=242.77 +/- 23.46\n",
      "Episode length: 412.20 +/- 13.91\n",
      "New best mean reward!\n",
      "Eval num_timesteps=704000, episode_reward=249.62 +/- 13.59\n",
      "Episode length: 404.80 +/- 7.88\n",
      "New best mean reward!\n",
      "Eval num_timesteps=720000, episode_reward=244.18 +/- 10.06\n",
      "Episode length: 384.60 +/- 6.71\n",
      "Eval num_timesteps=736000, episode_reward=237.17 +/- 25.20\n",
      "Episode length: 403.40 +/- 5.85\n",
      "Eval num_timesteps=752000, episode_reward=215.11 +/- 24.66\n",
      "Episode length: 449.60 +/- 141.71\n",
      "Eval num_timesteps=768000, episode_reward=249.53 +/- 22.23\n",
      "Episode length: 381.40 +/- 15.21\n",
      "Eval num_timesteps=784000, episode_reward=241.14 +/- 12.90\n",
      "Episode length: 360.00 +/- 14.63\n",
      "Eval num_timesteps=800000, episode_reward=261.20 +/- 13.06\n",
      "Episode length: 335.40 +/- 7.34\n",
      "New best mean reward!\n",
      "Eval num_timesteps=816000, episode_reward=283.67 +/- 10.30\n",
      "Episode length: 325.20 +/- 12.75\n",
      "New best mean reward!\n",
      "Eval num_timesteps=832000, episode_reward=254.09 +/- 3.66\n",
      "Episode length: 318.60 +/- 18.01\n",
      "Eval num_timesteps=848000, episode_reward=255.56 +/- 22.47\n",
      "Episode length: 289.20 +/- 3.87\n",
      "Eval num_timesteps=864000, episode_reward=273.15 +/- 12.41\n",
      "Episode length: 296.80 +/- 24.51\n",
      "Eval num_timesteps=880000, episode_reward=284.36 +/- 14.50\n",
      "Episode length: 307.00 +/- 17.05\n",
      "New best mean reward!\n",
      "Eval num_timesteps=896000, episode_reward=268.43 +/- 23.70\n",
      "Episode length: 295.20 +/- 15.08\n",
      "Eval num_timesteps=912000, episode_reward=272.17 +/- 19.31\n",
      "Episode length: 299.40 +/- 13.44\n",
      "Eval num_timesteps=928000, episode_reward=266.43 +/- 24.35\n",
      "Episode length: 307.40 +/- 15.24\n",
      "Eval num_timesteps=944000, episode_reward=205.92 +/- 99.44\n",
      "Episode length: 301.40 +/- 35.24\n",
      "Eval num_timesteps=960000, episode_reward=235.55 +/- 25.25\n",
      "Episode length: 314.20 +/- 33.39\n",
      "Eval num_timesteps=976000, episode_reward=249.80 +/- 34.19\n",
      "Episode length: 292.80 +/- 18.88\n",
      "Eval num_timesteps=992000, episode_reward=258.50 +/- 15.62\n",
      "Episode length: 300.60 +/- 20.64\n",
      "Eval num_timesteps=1008000, episode_reward=237.15 +/- 60.80\n",
      "Episode length: 425.80 +/- 287.20\n"
     ]
    },
    {
     "data": {
      "text/plain": [
       "<stable_baselines3.ppo.ppo.PPO at 0x179eda850>"
      ]
     },
     "execution_count": 4,
     "metadata": {},
     "output_type": "execute_result"
    }
   ],
   "source": [
    "model.learn(total_timesteps=int(1e6), eval_env=eval_venv, eval_freq=int(1e3))"
   ]
  },
  {
   "cell_type": "markdown",
   "metadata": {},
   "source": [
    "Let's checkout how the episode reward and episode length developed throughout the training."
   ]
  },
  {
   "cell_type": "code",
   "execution_count": 6,
   "metadata": {},
   "outputs": [
    {
     "data": {
      "image/png": "[encoded data removed]",
      "text/plain": [
       "<Figure size 936x288 with 2 Axes>"
      ]
     },
     "metadata": {
      "needs_background": "light"
     },
     "output_type": "display_data"
    }
   ],
   "source": [
    "plot_ll_training_metrics()"
   ]
  },
  {
   "cell_type": "markdown",
   "metadata": {},
   "source": [
    "We can also look at the agent trying to land the lunar lander at different stages of the training."
   ]
  },
  {
   "cell_type": "code",
   "execution_count": 7,
   "metadata": {},
   "outputs": [
    {
     "data": {
      "application/vnd.jupyter.widget-view+json": {
       "model_id": "3b39ce4fe87b43009554ce68017df2f7",
       "version_major": 2,
       "version_minor": 0
      },
      "text/plain": [
       "GridspecLayout(children=(Output(layout=Layout(grid_area='widget001')), Output(layout=Layout(grid_area='widget0…"
      ]
     },
     "metadata": {},
     "output_type": "display_data"
    }
   ],
   "source": [
    "display_ll_training_videos()"
   ]
  },
  {
   "cell_type": "markdown",
   "metadata": {},
   "source": [
    "Training usually takes longer, so we want to save the model for later use."
   ]
  },
  {
   "cell_type": "code",
   "execution_count": 8,
   "metadata": {},
   "outputs": [],
   "source": [
    "model.save(\"utils/rl/lunar_lander_model\")"
   ]
  },
  {
   "cell_type": "markdown",
   "metadata": {},
   "source": [
    "Now we can load the trained model and try it."
   ]
  },
  {
   "cell_type": "code",
   "execution_count": 10,
   "metadata": {},
   "outputs": [],
   "source": [
    "loaded_model = PPO.load(\"utils/rl/lunar_lander_model\")\n",
    "env = gym.make(\"LunarLander-v2\")\n",
    "\n",
    "done = False\n",
    "observation = env.reset()\n",
    "while not done:\n",
    "    action, _ = loaded_model.predict(observation)\n",
    "    observation, reward, done, info = env.step(action)\n",
    "    env.render()\n",
    "env.close()"
   ]
  },
  {
   "cell_type": "markdown",
   "metadata": {},
   "source": [
    "## 2. Reinforcement Learning for Particle Accelerators\n",
    "\n",
    "In much the same way we just used RL to train an agent to land a lunar lander, we can also train agents to control particle accelerators. We will take a look at an example close to [one of our papers](https://proceedings.mlr.press/v162/kaiser22a.html).\n",
    "\n",
    "The goal is to tune the magnets of a section of the accelerator such that we achieve certain beam parameters on a diagnostic screen. Below you can see what the RL loop would look like for this example.\n",
    "\n",
    "<img src=\"img/ares_ea_rl_loop.png\" width=\"65%\"/>\n",
    "\n",
    "Because training on the actual accelerator would take too much already scarce beam time, we want to train the RL agent using a simulation. After training the agent must then be able to also work on the real accelerator.\n",
    "\n",
    "In the following we will briefly demonstrate what a training for this problem might look like on a focusing task only. Then we will briefly demostrate a trained agent successfully tackling both focusing and positioning.\n",
    "\n",
    "**Note** than the training for these tasks longer than it did for the lunar lander, so while we provide all the code needed for training, we will not run it, but present agents we have prepared earlier.\n",
    "\n",
    "### Setup\n",
    "\n",
    "To achieve training in simulation and using the trained agent on the real aceelerator, we implement two seperate environments: `ARESEACheetah` to run on top of the *Cheetah* simulation code and `ARESEADOOCS` to communicate with the real accelerator. Both provide the same outside interface, meaning that to the RL agent they appear to be exactly the same and the agent can seamlessly be used on either environment."
   ]
  },
  {
   "cell_type": "code",
   "execution_count": 1,
   "metadata": {},
   "outputs": [
    {
     "name": "stdout",
     "output_type": "stream",
     "text": [
      "initializing ocelot...\n"
     ]
    }
   ],
   "source": [
    "# Imports\n",
    "\n",
    "from functools import partial\n",
    "import os\n",
    "from time import sleep\n",
    "\n",
    "from gym.wrappers import FilterObservation, FlattenObservation, FrameStack, RecordVideo, RescaleAction, TimeLimit\n",
    "import numpy as np\n",
    "from stable_baselines3 import PPO\n",
    "from stable_baselines3.common.monitor import Monitor\n",
    "from stable_baselines3.common.vec_env import DummyVecEnv, SubprocVecEnv, VecNormalize\n",
    "\n",
    "from utils.rl.helpers import (\n",
    "    ARESEACheetah,\n",
    "    display_acc_training_videos,\n",
    "    display_video,\n",
    "    FilterAction,\n",
    "    NotVecNormalize,\n",
    "    optimize,\n",
    "    plot_acc_training_metrics,\n",
    "    read_from_yaml,\n",
    "    save_to_yaml\n",
    ")"
   ]
  },
  {
   "cell_type": "markdown",
   "metadata": {},
   "source": [
    "Being a new task that is not as well understood in the RL community as the lunar lander, there is a lot of tuning of the environment, the agent interaction, observation and reward definition one has to do. For fast iteration over experiments and easy experiment tracking, we use a `config` dictionary."
   ]
  },
  {
   "cell_type": "code",
   "execution_count": 2,
   "metadata": {},
   "outputs": [],
   "source": [
    "config = {\n",
    "    \"action_mode\": \"direct\",\n",
    "    \"gamma\": 0.99,\n",
    "    \"filter_action\": [0, 1, 3],  \n",
    "    \"filter_observation\": None,\n",
    "    \"frame_stack\": None,\n",
    "    \"incoming_mode\": \"random\",\n",
    "    \"incoming_values\": None,\n",
    "    \"magnet_init_mode\": \"constant\",\n",
    "    \"magnet_init_values\": np.array([10, -10, 0, 10, 0]),\n",
    "    \"misalignment_mode\": \"constant\",\n",
    "    \"misalignment_values\": np.zeros(8),\n",
    "    \"n_envs\": 40,\n",
    "    \"normalize_observation\": True,\n",
    "    \"normalize_reward\": True,\n",
    "    \"rescale_action\": (-3, 3),\n",
    "    \"reward_mode\": \"feedback\",\n",
    "    \"sb3_device\": \"auto\",\n",
    "    \"target_beam_mode\": \"constant\",\n",
    "    \"target_beam_values\": np.zeros(4),\n",
    "    \"target_mu_x_threshold\": np.inf,\n",
    "    \"target_mu_y_threshold\": np.inf,\n",
    "    \"target_sigma_x_threshold\": 1e-4,\n",
    "    \"target_sigma_y_threshold\": 1e-4,\n",
    "    \"threshold_hold\": 5,\n",
    "    \"time_limit\": 25,\n",
    "    \"vec_env\": \"subproc\",\n",
    "    \"w_done\": 50.0,\n",
    "    \"w_mu_x\": 0.0,\n",
    "    \"w_mu_x_in_threshold\": 0.0,\n",
    "    \"w_mu_y\": 0.0,\n",
    "    \"w_mu_y_in_threshold\": 0.0,\n",
    "    \"w_on_screen\": 0.0,\n",
    "    \"w_sigma_x\": 1.0,\n",
    "    \"w_sigma_x_in_threshold\": 1.0,\n",
    "    \"w_sigma_y\": 1.0,\n",
    "    \"w_sigma_y_in_threshold\": 1.0,\n",
    "    \"w_time\": 0.0,\n",
    "}"
   ]
  },
  {
   "cell_type": "markdown",
   "metadata": {},
   "source": [
    "In Gym, so-called wrappers make it easy to modify some of the environment behaviour without modifying the environment itself. This makes it easy to leave out some of the observation, do normalisation, limit episodes to certain lengths and more.\n",
    "\n",
    "For our more advanced example, we use these wrappers depending on some entry in the config dictionary and imlemented a function to do all of this automatically."
   ]
  },
  {
   "cell_type": "code",
   "execution_count": 3,
   "metadata": {},
   "outputs": [
    {
     "name": "stdout",
     "output_type": "stream",
     "text": [
      "initializing ocelot...\n",
      "initializing ocelot...\n",
      "initializing ocelot...\n",
      "initializing ocelot...\n",
      "initializing ocelot...\n",
      "initializing ocelot...\n",
      "initializing ocelot...\n",
      "initializing ocelot...\n",
      "initializing ocelot...\n",
      "initializing ocelot...\n",
      "initializing ocelot...\n",
      "initializing ocelot...\n",
      "initializing ocelot...\n",
      "initializing ocelot...\n",
      "initializing ocelot...\n",
      "initializing ocelot...\n",
      "initializing ocelot...\n",
      "initializing ocelot...\n",
      "initializing ocelot...\n",
      "initializing ocelot...\n",
      "initializing ocelot...\n",
      "initializing ocelot...\n",
      "initializing ocelot...\n",
      "initializing ocelot...\n",
      "initializing ocelot...\n",
      "initializing ocelot...\n",
      "initializing ocelot...\n",
      "initializing ocelot...\n",
      "initializing ocelot...\n",
      "initializing ocelot...\n",
      "initializing ocelot...\n",
      "initializing ocelot...\n",
      "initializing ocelot...\n",
      "initializing ocelot...\n",
      "initializing ocelot...\n",
      "initializing ocelot...\n",
      "initializing ocelot...\n",
      "initializing ocelot...\n",
      "initializing ocelot...\n",
      "initializing ocelot...\n"
     ]
    },
    {
     "name": "stderr",
     "output_type": "stream",
     "text": [
      "/opt/homebrew/Caskroom/miniforge/base/envs/mt-ard-st3-ml-workshop/lib/python3.9/site-packages/gym/wrappers/record_video.py:41: UserWarning: \u001b[33mWARN: Overwriting existing videos at /Users/jankaiser/Documents/DESY/2022-MT-ARD-ST3-ML-workshop/utils/rl/accelerator_recordings folder (try specifying a different `video_folder` for the `RecordVideo` wrapper if this is not desired)\u001b[0m\n",
      "  logger.warn(\n"
     ]
    }
   ],
   "source": [
    "# Setup environments\n",
    "def make_env(config, record_video=False, monitor_filename=None):\n",
    "    env = ARESEACheetah(\n",
    "        incoming_mode=config[\"incoming_mode\"],\n",
    "        incoming_values=config[\"incoming_values\"],\n",
    "        misalignment_mode=config[\"misalignment_mode\"],\n",
    "        misalignment_values=config[\"misalignment_values\"],\n",
    "        action_mode=config[\"action_mode\"],\n",
    "        magnet_init_mode=config[\"magnet_init_mode\"],\n",
    "        magnet_init_values=config[\"magnet_init_values\"],\n",
    "        reward_mode=config[\"reward_mode\"],\n",
    "        target_beam_mode=config[\"target_beam_mode\"],\n",
    "        target_beam_values=config[\"target_beam_values\"],\n",
    "        target_mu_x_threshold=config[\"target_mu_x_threshold\"],\n",
    "        target_mu_y_threshold=config[\"target_mu_y_threshold\"],\n",
    "        target_sigma_x_threshold=config[\"target_sigma_x_threshold\"],\n",
    "        target_sigma_y_threshold=config[\"target_sigma_y_threshold\"],\n",
    "        threshold_hold=config[\"threshold_hold\"],\n",
    "        w_mu_x=config[\"w_mu_x\"],\n",
    "        w_mu_x_in_threshold=config[\"w_mu_x_in_threshold\"],\n",
    "        w_mu_y=config[\"w_mu_y\"],\n",
    "        w_mu_y_in_threshold=config[\"w_mu_y_in_threshold\"],\n",
    "        w_on_screen=config[\"w_on_screen\"],\n",
    "        w_sigma_x=config[\"w_sigma_x\"],\n",
    "        w_sigma_x_in_threshold=config[\"w_sigma_x_in_threshold\"],\n",
    "        w_sigma_y=config[\"w_sigma_y\"],\n",
    "        w_sigma_y_in_threshold=config[\"w_sigma_y_in_threshold\"],\n",
    "        w_time=config[\"w_time\"],\n",
    "    )\n",
    "    if config[\"filter_observation\"] is not None:\n",
    "        env = FilterObservation(env, config[\"filter_observation\"])\n",
    "    if config[\"filter_action\"] is not None:\n",
    "        env = FilterAction(env, config[\"filter_action\"], replace=0)\n",
    "    if config[\"time_limit\"] is not None:\n",
    "        env = TimeLimit(env, config[\"time_limit\"])\n",
    "    env = FlattenObservation(env)\n",
    "    if config[\"frame_stack\"] is not None:\n",
    "        env = FrameStack(env, config[\"frame_stack\"])\n",
    "    if config[\"rescale_action\"] is not None:\n",
    "        env = RescaleAction(env, config[\"rescale_action\"][0], config[\"rescale_action\"][1])\n",
    "    if not os.path.exists(\"utils/rl/accelerator_evaluations\"):\n",
    "        os.mkdir(\"utils/rl/accelerator_evaluations\")\n",
    "    env = Monitor(env, filename=monitor_filename)\n",
    "    if record_video:\n",
    "        env = RecordVideo(env, video_folder=\"utils/rl/accelerator_recordings\")\n",
    "    return env\n",
    "    \n",
    "\n",
    "if config[\"vec_env\"] == \"dummy\":\n",
    "    env = DummyVecEnv([partial(make_env, config) for _ in range(config[\"n_envs\"])])\n",
    "elif config[\"vec_env\"] == \"subproc\":\n",
    "    env = SubprocVecEnv([partial(make_env, config) for _ in range(config[\"n_envs\"])])\n",
    "else:\n",
    "    raise ValueError(f\"Invalid value \\\"{config['vec_env']}\\\" for dummy\")\n",
    "eval_env = DummyVecEnv([partial(make_env, config, record_video=True, monitor_filename=\"utils/rl/accelerator_evaluations/0\")])"
   ]
  },
  {
   "cell_type": "markdown",
   "metadata": {},
   "source": [
    "Normalisation of inputs and outputs is a key concept in ML and helps train models faster and better. This holds true for RL as well, so we use a wrapper to normalise observations of rewards comming from the environment. As we don't have full data set to compute the correct scaler from ahead of time, we use running mean and standard deviation to adjust the scale during training."
   ]
  },
  {
   "cell_type": "code",
   "execution_count": 4,
   "metadata": {},
   "outputs": [],
   "source": [
    "if config[\"normalize_observation\"] or config[\"normalize_reward\"]:\n",
    "    env = VecNormalize(\n",
    "        env,\n",
    "        norm_obs=config[\"normalize_observation\"],\n",
    "        norm_reward=config[\"normalize_reward\"],\n",
    "        gamma=config[\"gamma\"],\n",
    "    )\n",
    "    eval_env = VecNormalize(\n",
    "        eval_env,\n",
    "        norm_obs=config[\"normalize_observation\"],\n",
    "        norm_reward=config[\"normalize_reward\"],\n",
    "        gamma=config[\"gamma\"],\n",
    "        training=False,\n",
    "    )"
   ]
  },
  {
   "cell_type": "markdown",
   "metadata": {},
   "source": [
    "We use the same PPO algorithm that we used for the lunar lander."
   ]
  },
  {
   "cell_type": "code",
   "execution_count": 5,
   "metadata": {},
   "outputs": [],
   "source": [
    "# Train\n",
    "model = PPO(\n",
    "    \"MlpPolicy\",\n",
    "    env,\n",
    "    device=config[\"sb3_device\"],\n",
    "    gamma=config[\"gamma\"],\n",
    "    n_steps=100,\n",
    "    batch_size=100,\n",
    ")"
   ]
  },
  {
   "cell_type": "markdown",
   "metadata": {},
   "source": [
    "Training also works in very much the same way."
   ]
  },
  {
   "cell_type": "code",
   "execution_count": 6,
   "metadata": {},
   "outputs": [
    {
     "name": "stdout",
     "output_type": "stream",
     "text": [
      "Eval num_timesteps=20000, episode_reward=-5.08 +/- 19.81\n",
      "Episode length: 25.00 +/- 0.00\n",
      "New best mean reward!\n",
      "Eval num_timesteps=40000, episode_reward=-33.42 +/- 18.85\n",
      "Episode length: 25.00 +/- 0.00\n"
     ]
    },
    {
     "data": {
      "text/plain": [
       "<stable_baselines3.ppo.ppo.PPO at 0x2adf82460>"
      ]
     },
     "execution_count": 6,
     "metadata": {},
     "output_type": "execute_result"
    }
   ],
   "source": [
    "model.learn(\n",
    "    # total_timesteps=int(2e6),\n",
    "    total_timesteps=50000,\n",
    "    eval_env=eval_env,\n",
    "    eval_freq=500,\n",
    ")"
   ]
  },
  {
   "cell_type": "markdown",
   "metadata": {},
   "source": [
    "After training we don't just need to save the model. The normalisation scalers are also required to use the model later. We also save the `config` dictionary so that we can easily restore the configuration that was used during training."
   ]
  },
  {
   "cell_type": "code",
   "execution_count": 7,
   "metadata": {},
   "outputs": [],
   "source": [
    "model.save(\"utils/rl/accelerator_model\")\n",
    "\n",
    "if config[\"normalize_observation\"] or config[\"normalize_reward\"]:\n",
    "    env.save(\"utils/rl/accelerator_normalizer.pkl\")\n",
    "save_to_yaml(config, \"utils/rl/accelerator_config\")"
   ]
  },
  {
   "cell_type": "markdown",
   "metadata": {},
   "source": [
    "As before we can look at the training metrics and check out videos taken at different stages of the training."
   ]
  },
  {
   "cell_type": "code",
   "execution_count": 8,
   "metadata": {},
   "outputs": [
    {
     "data": {
      "image/png": "[encoded data removed]",
      "text/plain": [
       "<Figure size 936x288 with 2 Axes>"
      ]
     },
     "metadata": {
      "needs_background": "light"
     },
     "output_type": "display_data"
    }
   ],
   "source": [
    "# Training curves from this training\n",
    "plot_acc_training_metrics()"
   ]
  },
  {
   "cell_type": "code",
   "execution_count": 9,
   "metadata": {},
   "outputs": [
    {
     "data": {
      "application/vnd.jupyter.widget-view+json": {
       "model_id": "a47e67cd6b84433b9e564377458d3100",
       "version_major": 2,
       "version_minor": 0
      },
      "text/plain": [
       "GridspecLayout(children=(Output(layout=Layout(grid_area='widget001')), Output(layout=Layout(grid_area='widget0…"
      ]
     },
     "metadata": {},
     "output_type": "display_data"
    }
   ],
   "source": [
    "# Videos from this training\n",
    "display_acc_training_videos()"
   ]
  },
  {
   "cell_type": "markdown",
   "metadata": {},
   "source": [
    "We can also test the trained agent using a the simulation."
   ]
  },
  {
   "cell_type": "code",
   "execution_count": null,
   "metadata": {},
   "outputs": [],
   "source": [
    "# Run final agent\n",
    "\n",
    "loaded_model = PPO.load(\"utils/rl/accelerator_model\")\n",
    "loaded_config = read_from_yaml(\"utils/rl/accelerator_config\")\n",
    "\n",
    "env = make_env(config)\n",
    "env = NotVecNormalize(env, \"utils/rl/accelerator_normalizer.pkl\")\n",
    "\n",
    "done = False\n",
    "observation = env.reset()\n",
    "while not done:\n",
    "    action, _ = loaded_model.predict(observation)\n",
    "    observation, reward, done, info = env.step(action)\n",
    "    env.render()\n",
    "    sleep(0.5)\n",
    "env.close()"
   ]
  },
  {
   "cell_type": "markdown",
   "metadata": {},
   "source": [
    "Next, we load an agent has has been fully training and evaluated in simulation and gone through full evaluation on the real accelerator.\n",
    "\n",
    "Runs well on dummy of accelerator ..."
   ]
  },
  {
   "cell_type": "code",
   "execution_count": 11,
   "metadata": {},
   "outputs": [
    {
     "name": "stderr",
     "output_type": "stream",
     "text": [
      "/opt/homebrew/Caskroom/miniforge/base/envs/mt-ard-st3-ml-workshop/lib/python3.9/site-packages/stable_baselines3/common/save_util.py:166: UserWarning: Could not deserialize object lr_schedule. Consider using `custom_objects` argument to replace this object.\n",
      "  warnings.warn(\n",
      "/opt/homebrew/Caskroom/miniforge/base/envs/mt-ard-st3-ml-workshop/lib/python3.9/site-packages/gym/wrappers/record_video.py:41: UserWarning: \u001b[33mWARN: Overwriting existing videos at /Users/jankaiser/Documents/DESY/2022-MT-ARD-ST3-ML-workshop/utils/rl/polished-donkey_recordings folder (try specifying a different `video_folder` for the `RecordVideo` wrapper if this is not desired)\u001b[0m\n",
      "  logger.warn(\n"
     ]
    }
   ],
   "source": [
    "# Show polished donkey running (on simulation)\n",
    "optimize(\n",
    "    target_mu_x=0.0,\n",
    "    target_sigma_x=0.0,\n",
    "    target_mu_y=0.0,\n",
    "    target_sigma_y=0.0,\n",
    "    max_steps=20,\n",
    ")"
   ]
  },
  {
   "cell_type": "markdown",
   "metadata": {},
   "source": [
    "... and video from the real accelerator.\n",
    "\n",
    "As you can see, in this (recording) of the agent running on the real accelerator."
   ]
  },
  {
   "cell_type": "code",
   "execution_count": 12,
   "metadata": {},
   "outputs": [
    {
     "data": {
      "text/html": [
       "<video src=\"utils/rl/rl-video-episode-1727.mp4\" controls  >\n",
       "      Your browser does not support the <code>video</code> element.\n",
       "    </video>"
      ],
      "text/plain": [
       "<IPython.core.display.Video object>"
      ]
     },
     "execution_count": 12,
     "metadata": {},
     "output_type": "execute_result"
    }
   ],
   "source": [
    "# Show polished dinkey running (on real accelerator)\n",
    "display_video(\"utils/rl/rl-video-episode-1727.mp4\")"
   ]
  },
  {
   "cell_type": "markdown",
   "metadata": {},
   "source": [
    "## Further Resources\n",
    "\n",
    "### Getting started in RL\n",
    " - [OpenAI Spinning Up](https://spinningup.openai.com/en/latest/index.html) - Very understandable explainations on RL and the most popular algorithms acompanied by easy-to-read Python implementations.\n",
    " - [Reinforcement Learning with Stable Baselines 3](https://youtube.com/playlist?list=PLQVvvaa0QuDf0O2DWwLZBfJeYY-JOeZB1) - YouTube playlist giving a good introduction on RL using Stable Baselines3.\n",
    " - [Build a Doom AI Model with Python](https://youtu.be/eBCU-tqLGfQ) - Detailed 3h tutorial of applying RL using *DOOM* as an example.\n",
    " - [An introduction to Reinforcement Learning](https://youtu.be/JgvyzIkgxF0) - Brief introdution to RL.\n",
    " - [An introduction to Policy Gradient methods - Deep Reinforcement Learning](https://www.youtube.com/watch?v=5P7I-xPq8u8) - Brief introduction to PPO.\n",
    "\n",
    "### Papers\n",
    "\n",
    " - [Learning-based optimisation of particle accelerators under partial observability without real-world training](https://proceedings.mlr.press/v162/kaiser22a.html) - Tuning of electron beam properties on a diagnostic screen using RL.\n",
    " - [Sample-efficient reinforcement learning for CERN accelerator control](https://journals.aps.org/prab/abstract/10.1103/PhysRevAccelBeams.23.124801) - Beam trajectory steering using RL with a focus on sample-efficient training.\n",
    " - [Autonomous control of a particle accelerator using deep reinforcement learning](https://arxiv.org/abs/2010.08141) - Beam transport through a drift tube linac using RL.\n",
    " - [Basic reinforcement learning techniques to control the intensity of a seeded free-electron laser](https://www.mdpi.com/2079-9292/9/5/781/htm) - RL-based laser alignment and drift recovery.\n",
    " - [Real-time artificial intelligence for accelerator control: A study at the Fermilab Booster](https://journals.aps.org/prab/abstract/10.1103/PhysRevAccelBeams.24.104601) - Regulation of a gradient magnet power supply using RL and real-time implementation of the trained agent using field-programmable gate arrays (FPGAs).\n",
    " - [Magnetic control of tokamak plasmas through deep reinforcement learning](https://www.nature.com/articles/s41586-021-04301-9) - Landmark paper on RL for controling a real-world physical system (plasma in a tokamak fusion reactor).\n",
    "\n",
    "### Literature\n",
    " \n",
    " - [Reinforcement Learning: An Introduction](http://incompleteideas.net/book/the-book.html) - Standard text book on RL.\n",
    "\n",
    "### Packages\n",
    " - [Gym](https://www.gymlibrary.ml) - Defacto standard for implementing custom environments. Also provides a library of RL tasks widely used for benchmarking.\n",
    " - [Stable Baslines3](https://github.com/DLR-RM/stable-baselines3) - Provides reliable, benchmarked and easy-to-use implementations of the most important RL algorithms.\n",
    " - [Ray RLlib](https://docs.ray.io/en/latest/rllib/index.html) - Part of the *Ray* Python package providing implementations of various RL algorithms with a focus on distributed training."
   ]
  },
  {
   "cell_type": "code",
   "execution_count": null,
   "metadata": {},
   "outputs": [],
   "source": []
  }
 ],
 "metadata": {
  "kernelspec": {
   "display_name": "Python 3.9.13 ('mt-ard-st3-ml-workshop')",
   "language": "python",
   "name": "python3"
  },
  "language_info": {
   "codemirror_mode": {
    "name": "ipython",
    "version": 3
   },
   "file_extension": ".py",
   "mimetype": "text/x-python",
   "name": "python",
   "nbconvert_exporter": "python",
   "pygments_lexer": "ipython3",
   "version": "3.9.13"
  },
  "orig_nbformat": 4,
  "vscode": {
   "interpreter": {
    "hash": "6a21c44fdd138ab7704c88bb132d781dbf951598c998c66e5a0ef8d4aa5fed02"
   }
  }
 },
 "nbformat": 4,
 "nbformat_minor": 2
}
